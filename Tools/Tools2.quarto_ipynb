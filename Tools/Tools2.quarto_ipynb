{
  "cells": [
    {
      "cell_type": "markdown",
      "metadata": {},
      "source": [
        "---\n",
        "title: \"Data Manipulation and Wrangling\"\n",
        "subtitle: \"IN1002B: Introduction to Data Science Projects\"\n",
        "author: \n",
        "  - name: Alan R. Vazquez\n",
        "    affiliations:\n",
        "      - name: Department of Industrial Engineering\n",
        "format: \n",
        "  revealjs:\n",
        "    chalkboard: false\n",
        "    multiplex: true\n",
        "    footer: \"Tecnologico de Monterrey\"\n",
        "    logo: IN1002b_logo.png\n",
        "    css: style.css\n",
        "    slide-number: True\n",
        "    html-math-method: mathjax\n",
        "editor: visual\n",
        "jupyter: python3\n",
        "---\n",
        "\n",
        "\n",
        "## Agenda\n",
        "\n",
        "</br>\n",
        "\n",
        "1.  Data manipulation with pandas\n",
        "2.  Basic data wrangling\n",
        "\n",
        "# Data manipulation with pandas\n",
        "\n",
        "## Chaining operations with pandas\n",
        "\n",
        "One of the most important techniques in **pandas** is [**chaining**]{style=\"color:brown;\"}, which allows for cleaner and more readable data manipulation.\n",
        "\n",
        "The general structure of chaining looks like this:\n",
        "\n",
        "![](images/chaining_pandas.png){fig-align=\"center\"}\n",
        "\n",
        "## Key pandas methods\n",
        "\n",
        "**pandas** provides methods or functions to solve common data manipulation tasks:\n",
        "\n",
        "::: incremental\n",
        "-   `.filter()` selects specific columns or rows.\n",
        "\n",
        "-   `.query()` filters observations based on conditions.\n",
        "\n",
        "-   `.assign()` adds new variables that are functions of existing variables.\n",
        "\n",
        "-   `.sort_values()` changes the order of rows.\n",
        "\n",
        "-   `.agg()` reduces multiple values to a single numerical summary.\n",
        ":::\n",
        "\n",
        "## \n",
        "\n",
        "![](images/pandas_manipulation.png){fig-align=\"center\"}\n",
        "\n",
        "To practice, we will use the dataset `penguins_data`.\n",
        "\n",
        "## Example 1\n",
        "\n",
        "Let's load the dataset and the **pandas** library.\n"
      ],
      "id": "ee290c46"
    },
    {
      "cell_type": "code",
      "metadata": {},
      "source": [
        "#| echo: true\n",
        "\n",
        "import pandas as pd\n",
        "\n",
        "# Load the Excel file into a pandas DataFrame.\n",
        "penguins_data = pd.read_excel(\"penguins.xlsx\")\n",
        "\n",
        "# Preview the dataset.\n",
        "penguins_data.head(4)"
      ],
      "id": "f403d971",
      "execution_count": null,
      "outputs": []
    },
    {
      "cell_type": "markdown",
      "metadata": {},
      "source": [
        "## Selecting columns with `.filter()`\n",
        "\n",
        "Select the columns `species`, `body_mass_g` and `sex`.\n"
      ],
      "id": "0dd9d4e4"
    },
    {
      "cell_type": "code",
      "metadata": {},
      "source": [
        "#| eval: true\n",
        "#| echo: true\n",
        "\n",
        "(penguins_data\n",
        "  .filter([\"species\", \"body_mass_g\", \"sex\"], axis = 1)\n",
        ").head()"
      ],
      "id": "a0a60abe",
      "execution_count": null,
      "outputs": []
    },
    {
      "cell_type": "markdown",
      "metadata": {},
      "source": [
        "## \n",
        "\n",
        "</br>\n",
        "\n",
        "The `axis` argument tells `.filter()` whether to select rows (`0`) or columns (`1`) from the dataframe.\n"
      ],
      "id": "9b043f58"
    },
    {
      "cell_type": "code",
      "metadata": {},
      "source": [
        "#| output: false\n",
        "#| echo: true\n",
        "\n",
        "(penguins_data\n",
        "  .filter([\"species\", \"body_mass_g\", \"sex\"], axis = 1)\n",
        ").head()"
      ],
      "id": "48d818aa",
      "execution_count": null,
      "outputs": []
    },
    {
      "cell_type": "markdown",
      "metadata": {},
      "source": [
        "</br>\n",
        "\n",
        "> The `.head()` command allows us to print the first six rows of the newly produced dataframe. We **must** remove it to have the entire new dataframe.\n",
        "\n",
        "## \n",
        "\n",
        "</br>\n",
        "\n",
        "We can also use `.filter()` to select rows too. To this end, we set `axis = 1`. We can select specific rows, such as 0 and 10.\n"
      ],
      "id": "36fa1a87"
    },
    {
      "cell_type": "code",
      "metadata": {},
      "source": [
        "#| output: true\n",
        "#| echo: true\n",
        "\n",
        "(penguins_data\n",
        "  .filter([0, 10], axis = 0)\n",
        ")"
      ],
      "id": "dadaecec",
      "execution_count": null,
      "outputs": []
    },
    {
      "cell_type": "markdown",
      "metadata": {},
      "source": [
        "## \n",
        "\n",
        "Or, we can select a set of rows using the function `range()`. For example, let's select the first 5 rows.\n"
      ],
      "id": "b38d144b"
    },
    {
      "cell_type": "code",
      "metadata": {},
      "source": [
        "#| output: true\n",
        "#| echo: true\n",
        "\n",
        "(penguins_data\n",
        "  .filter(range(5), axis = 0)\n",
        ")"
      ],
      "id": "6ec6406f",
      "execution_count": null,
      "outputs": []
    },
    {
      "cell_type": "markdown",
      "metadata": {},
      "source": [
        "## Filtering rows with `.query()`\n",
        "\n",
        "</br>\n",
        "\n",
        "An alternative way of selecting rows is `.query()`. Compared to `.filter()`, `.query()` allows us to filter the data using statements or *queries* involving the variables.\n",
        "\n",
        "</br>\n",
        "\n",
        "For example, let's filter the data for the species \"Gentoo.\"\n"
      ],
      "id": "ed6b31c0"
    },
    {
      "cell_type": "code",
      "metadata": {},
      "source": [
        "#| output: false\n",
        "#| echo: true\n",
        "\n",
        "(penguins_data\n",
        "  .query(\"species == 'Gentoo'\")\n",
        ")"
      ],
      "id": "3e82c16e",
      "execution_count": null,
      "outputs": []
    },
    {
      "cell_type": "markdown",
      "metadata": {},
      "source": [
        "## \n",
        "\n",
        "</br>\n"
      ],
      "id": "d6b3d828"
    },
    {
      "cell_type": "code",
      "metadata": {},
      "source": [
        "#| output: true\n",
        "#| echo: true\n",
        "\n",
        "(penguins_data\n",
        "  .query(\"species == 'Gentoo'\")\n",
        ").head()"
      ],
      "id": "37224403",
      "execution_count": null,
      "outputs": []
    },
    {
      "cell_type": "markdown",
      "metadata": {},
      "source": [
        "## \n",
        "\n",
        "We can also filter the data to get penguins with a body mass greater than 5000g.\n"
      ],
      "id": "abca17d3"
    },
    {
      "cell_type": "code",
      "metadata": {},
      "source": [
        "#| eval: true\n",
        "#| echo: true\n",
        "\n",
        "(penguins_data\n",
        "  .query(\"body_mass_g > 5000\")\n",
        ").head()"
      ],
      "id": "b46340ff",
      "execution_count": null,
      "outputs": []
    },
    {
      "cell_type": "markdown",
      "metadata": {},
      "source": [
        "## \n",
        "\n",
        "We can even **combine** `.filter()` and `.query()`. For example, let's select the columns `species`, `body_mass_g` and `sex`, then filter the data for the \"Gentoo\" species.\n"
      ],
      "id": "73bb36a3"
    },
    {
      "cell_type": "code",
      "metadata": {},
      "source": [
        "#| eval: true\n",
        "#| echo: true\n",
        "\n",
        "(penguins_data\n",
        "  .filter([\"species\", \"body_mass_g\", \"sex\"], axis = 1)\n",
        "  .query(\"species == 'Gentoo'\")\n",
        ").head(4)"
      ],
      "id": "f643a3c7",
      "execution_count": null,
      "outputs": []
    },
    {
      "cell_type": "markdown",
      "metadata": {},
      "source": [
        "## Create new columns with `.assign()`\n",
        "\n",
        "With `.assign()`, we can create new columns (variables) that are functions of existing ones. This function uses a special Python keyword called `lambda`. Technically, this keyword defines an *anonymous* function.\n",
        "\n",
        "For example, we create a new variable `LDRatio` equaling the ratio of `bill_length_mm` and `bill_depth_mm`.\n"
      ],
      "id": "70d3ee8c"
    },
    {
      "cell_type": "code",
      "metadata": {},
      "source": [
        "#| output: false\n",
        "#| echo: true\n",
        "\n",
        "(penguins_data\n",
        "  .assign(LDRatio = lambda df: df[\"bill_length_mm\"] / df[\"bill_depth_mm\"])\n",
        ")"
      ],
      "id": "b5681fbf",
      "execution_count": null,
      "outputs": []
    },
    {
      "cell_type": "markdown",
      "metadata": {},
      "source": [
        "## \n",
        "\n",
        "</br>\n",
        "\n",
        "In this code, the `df` after `lambda` indicates that the dataframe (`penguins_data`) will be referred to as `df` inside the function. The colon `:` sets the start of the function.\n"
      ],
      "id": "bf7a47c3"
    },
    {
      "cell_type": "code",
      "metadata": {},
      "source": [
        "#| output: false\n",
        "#| echo: true\n",
        "\n",
        "(penguins_data\n",
        "  .assign(LDRatio = lambda df: df[\"bill_length_mm\"] / df[\"bill_depth_mm\"])\n",
        ")"
      ],
      "id": "87d2a702",
      "execution_count": null,
      "outputs": []
    },
    {
      "cell_type": "markdown",
      "metadata": {},
      "source": [
        "The code appends the new variable to the end of the resulting dataframe.\n",
        "\n",
        "## \n",
        "\n",
        "We can see the new variable using `.filter()`.\n"
      ],
      "id": "5380669c"
    },
    {
      "cell_type": "code",
      "metadata": {},
      "source": [
        "#| output: true\n",
        "#| echo: true\n",
        "\n",
        "(penguins_data\n",
        "  .assign(LDRatio = lambda df: df[\"bill_length_mm\"] / df[\"bill_depth_mm\"])\n",
        "  .filter([\"bill_length_mm\", \"bill_depth_mm\", \"LDRatio\"], axis = 1)\n",
        ").head()"
      ],
      "id": "336eac06",
      "execution_count": null,
      "outputs": []
    },
    {
      "cell_type": "markdown",
      "metadata": {},
      "source": [
        "## Sorting with `.sort_values()`\n",
        "\n",
        "We can sort the data based on a column like `bill_length_mm`.\n"
      ],
      "id": "5a01a4c0"
    },
    {
      "cell_type": "code",
      "metadata": {},
      "source": [
        "#| eval: true\n",
        "#| echo: true\n",
        "\n",
        "(penguins_data\n",
        "  .sort_values(\"bill_length_mm\")\n",
        ").head(4)"
      ],
      "id": "9ffb575d",
      "execution_count": null,
      "outputs": []
    },
    {
      "cell_type": "markdown",
      "metadata": {},
      "source": [
        "## \n",
        "\n",
        "To sort in descending order, use `ascending=False` inside `sort_values()`.\n"
      ],
      "id": "bbaadb85"
    },
    {
      "cell_type": "code",
      "metadata": {},
      "source": [
        "#| eval: true\n",
        "#| echo: true\n",
        "\n",
        "(penguins_data\n",
        "  .sort_values(\"bill_length_mm\", ascending=False)\n",
        ").head()"
      ],
      "id": "3f8f7ed1",
      "execution_count": null,
      "outputs": []
    },
    {
      "cell_type": "markdown",
      "metadata": {},
      "source": [
        "## Summarizing with `.agg()`\n",
        "\n",
        "We can calculate summary statistics of the columns `bill_length_mm`, `bill_depth_mm`, and `body_mass_g`.\n"
      ],
      "id": "1dae0f76"
    },
    {
      "cell_type": "code",
      "metadata": {},
      "source": [
        "#| eval: true\n",
        "#| echo: true\n",
        "\n",
        "(penguins_data\n",
        "  .filter([\"bill_length_mm\", \"bill_depth_mm\", \"body_mass_g\"], axis = 1)\n",
        "  .agg([\"mean\"])\n",
        ")"
      ],
      "id": "644ac20e",
      "execution_count": null,
      "outputs": []
    },
    {
      "cell_type": "markdown",
      "metadata": {},
      "source": [
        "</br>\n",
        "\n",
        "> By default, `agg()` ignores missing values.\n",
        "\n",
        "## Saving results in new objects\n",
        "\n",
        "</br>\n",
        "\n",
        "After performing operations on our data, we can save the modified dataset as a new object.\n"
      ],
      "id": "2e1d0704"
    },
    {
      "cell_type": "code",
      "metadata": {},
      "source": [
        "#| eval: true\n",
        "#| echo: true\n",
        "\n",
        "mean_penguins_data = (penguins_data\n",
        "  .filter([\"bill_length_mm\", \"bill_depth_mm\", \"body_mass_g\"], axis = 1)\n",
        "  .agg([\"mean\"])\n",
        ")\n",
        "\n",
        "mean_penguins_data"
      ],
      "id": "631ad559",
      "execution_count": null,
      "outputs": []
    },
    {
      "cell_type": "markdown",
      "metadata": {},
      "source": [
        "## More on pandas\n",
        "\n",
        "![](images/python_book.jpg){fig-align=\"center\"}\n",
        "\n",
        "::: {style=\"font-size: 50%;\"}\n",
        "<https://wesmckinney.com/book/>\n",
        ":::\n",
        "\n",
        "# Basic data wrangling\n",
        "\n",
        "## Data wrangling\n",
        "\n",
        "</br>\n",
        "\n",
        "-   Data wrangling is the process of transforming raw data into a clean and structured format.\n",
        "\n",
        "-   It involves merging, reshaping, filtering, and organizing data for analysis.\n",
        "\n",
        "-   Here, we illustrate some special functions of the **pandas** for cleaning common issues with a dataset.\n",
        "\n",
        "## Example 2\n",
        "\n",
        "Consider an industrial engineer who receives a messy Excel file from a manufacturing client. The data file is called \"industrial_dataset.xlsx\", which file includes data about machine maintenance logs, production output, and operator comments.\n",
        "\n",
        "The **goal** is to clean and prepare this dataset using pandas so it can be analyzed.\n",
        "\n",
        "Let's read the data set into Python.\n"
      ],
      "id": "4bb28702"
    },
    {
      "cell_type": "code",
      "metadata": {},
      "source": [
        "#| echo: true\n",
        "\n",
        "# Load the Excel file into a pandas DataFrame.\n",
        "client_data = pd.read_excel(\"industrial_dataset.xlsx\")"
      ],
      "id": "707f8d6e",
      "execution_count": null,
      "outputs": []
    },
    {
      "cell_type": "markdown",
      "metadata": {},
      "source": [
        "## \n"
      ],
      "id": "a497da08"
    },
    {
      "cell_type": "code",
      "metadata": {},
      "source": [
        "#| echo: true\n",
        "\n",
        "# Preview the dataset.\n",
        "client_data.head()"
      ],
      "id": "f308dd69",
      "execution_count": null,
      "outputs": []
    },
    {
      "cell_type": "markdown",
      "metadata": {},
      "source": [
        "## Remove duplicate rows\n",
        "\n",
        "</br></br>\n",
        "\n",
        "Duplicate or identical rows are rows that have the same entries in every column in the dataset.\n",
        "\n",
        "If only one row is needed for the analysis, we can remove the duplicates using the `.drop_duplicates()` function.\n"
      ],
      "id": "528f2c99"
    },
    {
      "cell_type": "code",
      "metadata": {},
      "source": [
        "#| echo: true\n",
        "\n",
        "client_data_single = (client_data\n",
        "                     .drop_duplicates()\n",
        "                      )"
      ],
      "id": "b65e8e62",
      "execution_count": null,
      "outputs": []
    },
    {
      "cell_type": "markdown",
      "metadata": {},
      "source": [
        "## \n",
        "\n",
        "The `client_data_single` dataframe does not have duplicate rows.\n"
      ],
      "id": "75a05dc0"
    },
    {
      "cell_type": "code",
      "metadata": {},
      "source": [
        "#| echo: true\n",
        "\n",
        "client_data_single.head()"
      ],
      "id": "71f32c79",
      "execution_count": null,
      "outputs": []
    },
    {
      "cell_type": "markdown",
      "metadata": {},
      "source": [
        "## Add an index column\n",
        "\n",
        "</br>\n",
        "\n",
        "In some cases, it is useful to have a unique identifier for each row in the dataset. We can create an identifier using the function `.assign` with some extra syntaxis.\n"
      ],
      "id": "80c0adaf"
    },
    {
      "cell_type": "code",
      "metadata": {},
      "source": [
        "#| echo: true\n",
        "\n",
        "client_data_single = (client_data_single\n",
        "                      .reset_index(drop = True)\n",
        "                      .assign(ID = lambda x: x.index + 1)\n",
        "                      ) "
      ],
      "id": "8661ab47",
      "execution_count": null,
      "outputs": []
    },
    {
      "cell_type": "markdown",
      "metadata": {},
      "source": [
        "## \n",
        "\n",
        "The new column is appended to the end of the dataframe.\n"
      ],
      "id": "97a838a9"
    },
    {
      "cell_type": "code",
      "metadata": {},
      "source": [
        "#| echo: true\n",
        "\n",
        "client_data_single.head()"
      ],
      "id": "c173bd2d",
      "execution_count": null,
      "outputs": []
    },
    {
      "cell_type": "markdown",
      "metadata": {},
      "source": [
        "## \n",
        "\n",
        "To bring it to the begining of the array, we can use the `.filter()` function.\n"
      ],
      "id": "dbac05fc"
    },
    {
      "cell_type": "code",
      "metadata": {},
      "source": [
        "#| echo: true\n",
        "\n",
        "client_data_single = (client_data_single\n",
        ".filter(['ID', 'Machine ID',\t'Output (units)',\t\n",
        "        'Maintenance Date', 'Operator', 'Comment'])\n",
        ")\n",
        "client_data_single.head(3)  "
      ],
      "id": "6b2a4b35",
      "execution_count": null,
      "outputs": []
    },
    {
      "cell_type": "markdown",
      "metadata": {},
      "source": [
        "## Fill blank cells\n",
        "\n",
        "In the dataset, there are columns with missing values. If we would like to fill them with specific values or text, we use the `.fillna()` function. In this function, we use the syntaxis `'Variable': 'Replace'`, where the `Variable` is the column in the dataset and `Replace` is the text or number to fill the entry in.\n",
        "\n",
        "Let's fill in the missing entries of the columns `Operator`, `Maintenance Date`, and `Comment`.\n"
      ],
      "id": "2a9d2a01"
    },
    {
      "cell_type": "code",
      "metadata": {},
      "source": [
        "#| echo: true\n",
        "\n",
        "complete_data = (client_data_single\n",
        "                .fillna({'Operator': 'Unknown', \n",
        "                'Maintenance Date': '2023-01-01',\n",
        "                'Comment': 'None'})\n",
        "                ) "
      ],
      "id": "0a969c96",
      "execution_count": null,
      "outputs": []
    },
    {
      "cell_type": "markdown",
      "metadata": {},
      "source": [
        "## \n"
      ],
      "id": "704eaa2c"
    },
    {
      "cell_type": "code",
      "metadata": {},
      "source": [
        "#| echo: true\n",
        "\n",
        "complete_data.head()"
      ],
      "id": "f86dd1be",
      "execution_count": null,
      "outputs": []
    },
    {
      "cell_type": "markdown",
      "metadata": {},
      "source": [
        "## Replace values\n",
        "\n",
        "</br>\n",
        "\n",
        "There are some cases in which columns have some undesired or unwatned values. Consider the `Output (units)` as an example.\n"
      ],
      "id": "d0bf9371"
    },
    {
      "cell_type": "code",
      "metadata": {},
      "source": [
        "#| echo: true\n",
        "\n",
        "complete_data['Output (units)'].head()"
      ],
      "id": "63263757",
      "execution_count": null,
      "outputs": []
    },
    {
      "cell_type": "markdown",
      "metadata": {},
      "source": [
        "The column has the numbers of units but also text such as \"error\".\n",
        "\n",
        "## \n",
        "\n",
        "</br>\n",
        "\n",
        "We can replace the \"error\" in this column by a user-specified value, say, 0. To this end, we use the function `.replace()`. The function has two inputs. The first one is the value to replace and the second one is the replacement value.\n"
      ],
      "id": "0d753423"
    },
    {
      "cell_type": "code",
      "metadata": {},
      "source": [
        "#| echo: true\n",
        "\n",
        "complete_data['Output (units)'] = complete_data['Output (units)'].replace('error', 0)"
      ],
      "id": "e519f7f9",
      "execution_count": null,
      "outputs": []
    },
    {
      "cell_type": "markdown",
      "metadata": {},
      "source": [
        "## \n",
        "\n",
        "</br>\n",
        "\n",
        "Let's check the new column.\n"
      ],
      "id": "3887e4eb"
    },
    {
      "cell_type": "code",
      "metadata": {},
      "source": [
        "#| echo: true\n",
        "\n",
        "complete_data['Output (units)']"
      ],
      "id": "28de0301",
      "execution_count": null,
      "outputs": []
    },
    {
      "cell_type": "markdown",
      "metadata": {},
      "source": [
        "Note that the new column is now numeric.\n",
        "\n",
        "## Split column into multiple ones\n",
        "\n",
        "There are some cases in which we want to split a column according to a character. For example, consider the column `Comment` from the dataset.\n"
      ],
      "id": "a1151479"
    },
    {
      "cell_type": "code",
      "metadata": {},
      "source": [
        "#| echo: true\n",
        "\n",
        "complete_data['Comment']"
      ],
      "id": "cda60e98",
      "execution_count": null,
      "outputs": []
    },
    {
      "cell_type": "markdown",
      "metadata": {},
      "source": [
        "## \n",
        "\n",
        "The column has some values such as \"Requires part: valve\" and \"Delay: maintenance\\n\" that we may want to split into columns.\n"
      ],
      "id": "5fe025a8"
    },
    {
      "cell_type": "code",
      "metadata": {},
      "source": [
        "#| echo: false\n",
        "#| output: true\n",
        "\n",
        "complete_data['Comment']"
      ],
      "id": "fcb7ec33",
      "execution_count": null,
      "outputs": []
    },
    {
      "cell_type": "markdown",
      "metadata": {},
      "source": [
        "## \n",
        "\n",
        "</br>\n",
        "\n",
        "We can split the values in the column according to the colon \":\".\n",
        "\n",
        "That is, everything before the colon will be in a column. Everything after the colon will be in another column. To achieve this, we use the function `str.split()`.\n",
        "\n",
        "One input of the function is the symbol or character for which we cant to make a split. The other input, `expand = True` tells Python that we want to create new columns.\n"
      ],
      "id": "c302756c"
    },
    {
      "cell_type": "code",
      "metadata": {},
      "source": [
        "#| echo: true\n",
        "#| output: false\n",
        "\n",
        "complete_data['Comment'].str.split(':', expand = True)"
      ],
      "id": "52d575cd",
      "execution_count": null,
      "outputs": []
    },
    {
      "cell_type": "markdown",
      "metadata": {},
      "source": [
        "## \n",
        "\n",
        "The result is two columns.\n"
      ],
      "id": "a02d687b"
    },
    {
      "cell_type": "code",
      "metadata": {},
      "source": [
        "#| echo: true\n",
        "#| output: true\n",
        "\n",
        "split_column = complete_data['Comment'].str.split(':', expand = True)\n",
        "split_column.head()"
      ],
      "id": "2dfc15a2",
      "execution_count": null,
      "outputs": []
    },
    {
      "cell_type": "markdown",
      "metadata": {},
      "source": [
        "## \n",
        "\n",
        "</br>\n",
        "\n",
        "We can assign them to new columns in the dataset using the following code.\n"
      ],
      "id": "b2de4250"
    },
    {
      "cell_type": "code",
      "metadata": {},
      "source": [
        "#| echo: true\n",
        "#| output: true\n",
        "\n",
        "augmented_data = (complete_data\n",
        "                  .assign(First_comment = split_column.filter([0]),\n",
        "                  Second_comment = split_column.filter([1]))\n",
        "                  )"
      ],
      "id": "c08fb0f2",
      "execution_count": null,
      "outputs": []
    },
    {
      "cell_type": "markdown",
      "metadata": {},
      "source": [
        "## \n"
      ],
      "id": "6e3c120f"
    },
    {
      "cell_type": "code",
      "metadata": {},
      "source": [
        "#| echo: true\n",
        "#| output: true\n",
        "\n",
        "augmented_data.head()"
      ],
      "id": "474d7529",
      "execution_count": null,
      "outputs": []
    },
    {
      "cell_type": "markdown",
      "metadata": {},
      "source": [
        "## Remove characters\n",
        "\n",
        "</br>\n",
        "\n",
        "Something that we notice is that the column `First_Comment` has some extra characters like \"\\n\" that may be useless when working with the data.\n",
        "\n",
        "We can remove them using the function `str.strip()`. The input of the function is the character to remove.\n"
      ],
      "id": "2708199a"
    },
    {
      "cell_type": "code",
      "metadata": {},
      "source": [
        "#| echo: true\n",
        "\n",
        "augmented_data['First_comment'] = augmented_data['First_comment'].str.strip(\"\\n\")"
      ],
      "id": "a7578cc9",
      "execution_count": null,
      "outputs": []
    },
    {
      "cell_type": "markdown",
      "metadata": {},
      "source": [
        "## \n",
        "\n",
        "</br>\n",
        "\n",
        "Let's see the cleaned column.\n"
      ],
      "id": "35e591f4"
    },
    {
      "cell_type": "code",
      "metadata": {},
      "source": [
        "#| echo: true\n",
        "\n",
        "augmented_data['First_comment']"
      ],
      "id": "29163a25",
      "execution_count": null,
      "outputs": []
    },
    {
      "cell_type": "markdown",
      "metadata": {},
      "source": [
        "## \n",
        "\n",
        "</br>\n",
        "\n",
        "We can also remove other characters.\n"
      ],
      "id": "d260c4b5"
    },
    {
      "cell_type": "code",
      "metadata": {},
      "source": [
        "#| echo: true\n",
        "\n",
        "augmented_data['First_comment'].str.strip(\"!\")"
      ],
      "id": "f2892f47",
      "execution_count": null,
      "outputs": []
    },
    {
      "cell_type": "markdown",
      "metadata": {},
      "source": [
        "## Transform text case\n",
        "\n",
        "When working with text columns such as those containing names, it might be possible to have different ways of writing. A common case is when having lower case or upper case names or a combination thereof.\n",
        "\n",
        "For example, consider the column `Operator` containing the names of the operators.\n"
      ],
      "id": "e551cb80"
    },
    {
      "cell_type": "code",
      "metadata": {},
      "source": [
        "#| echo: true\n",
        "\n",
        "complete_data['Operator'].head()"
      ],
      "id": "ba9f336a",
      "execution_count": null,
      "outputs": []
    },
    {
      "cell_type": "markdown",
      "metadata": {},
      "source": [
        "## Remove extra spaces\n",
        "\n",
        "</br>\n",
        "\n",
        "To deal with names, we first use the `.str.strip()` to remove leading and trailing characters from strings.\n"
      ],
      "id": "228d067c"
    },
    {
      "cell_type": "code",
      "metadata": {},
      "source": [
        "#| echo: true\n",
        "\n",
        "complete_data['Operator'] = complete_data['Operator'].str.strip()\n",
        "complete_data['Operator']"
      ],
      "id": "91608afb",
      "execution_count": null,
      "outputs": []
    },
    {
      "cell_type": "markdown",
      "metadata": {},
      "source": [
        "## Change to lowercase letters\n",
        "\n",
        "</br>\n",
        "\n",
        "We can turn all names to lowercase using the function `str.lower()`.\n"
      ],
      "id": "d59cb8be"
    },
    {
      "cell_type": "code",
      "metadata": {},
      "source": [
        "#| echo: true\n",
        "\n",
        "complete_data['Operator'].str.lower()"
      ],
      "id": "870365ad",
      "execution_count": null,
      "outputs": []
    },
    {
      "cell_type": "markdown",
      "metadata": {},
      "source": [
        "## Change to uppercase letters\n",
        "\n",
        "</br>\n",
        "\n",
        "We can turn all names to lowercase using the function `str.upper()`.\n"
      ],
      "id": "0da54bb1"
    },
    {
      "cell_type": "code",
      "metadata": {},
      "source": [
        "#| echo: true\n",
        "\n",
        "complete_data['Operator'].str.upper()"
      ],
      "id": "e558b718",
      "execution_count": null,
      "outputs": []
    },
    {
      "cell_type": "markdown",
      "metadata": {},
      "source": [
        "## Capitalize the first letter\n",
        "\n",
        "</br>\n",
        "\n",
        "We can convert all names to title case using the function `str.title()`.\n"
      ],
      "id": "1d43b3ee"
    },
    {
      "cell_type": "code",
      "metadata": {},
      "source": [
        "#| echo: true\n",
        "\n",
        "complete_data['Operator'].str.title()"
      ],
      "id": "c13851d8",
      "execution_count": null,
      "outputs": []
    },
    {
      "cell_type": "markdown",
      "metadata": {},
      "source": [
        "# [Return to main page](https://alanrvazquez.github.io/TEC-IN1002B-Website/)"
      ],
      "id": "18fe58b0"
    }
  ],
  "metadata": {
    "kernelspec": {
      "display_name": "Python 3",
      "language": "python",
      "name": "python3"
    }
  },
  "nbformat": 4,
  "nbformat_minor": 5
}