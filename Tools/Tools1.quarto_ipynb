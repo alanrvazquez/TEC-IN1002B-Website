{
  "cells": [
    {
      "cell_type": "markdown",
      "metadata": {},
      "source": [
        "---\n",
        "title: \"Tools for Data Science: Part I\"\n",
        "subtitle: \"IN1002B: Introduction to Data Science Projects\"\n",
        "author: \n",
        "  - name: Alan R. Vazquez\n",
        "    affiliations:\n",
        "      - name: Department of Industrial Engineering\n",
        "format: \n",
        "  revealjs:\n",
        "    chalkboard: false\n",
        "    multiplex: true\n",
        "    footer: \"Tecnologico de Monterrey\"\n",
        "    logo: IN1002b_logo.png\n",
        "    css: style.css\n",
        "    slide-number: True\n",
        "    html-math-method: mathjax\n",
        "editor: visual\n",
        "jupyter: python3\n",
        "---\n",
        "\n",
        "\n",
        "## Agenda\n",
        "\n",
        "</br>\n",
        "\n",
        "1.  Introduction to Python\n",
        "2.  Reading data with Python\n",
        "3.  Data manipulation with pandas\n",
        "\n",
        "# Introduction to Python\n",
        "\n",
        "## Python\n",
        "\n",
        "::::: columns\n",
        "::: {.column width=\"70%\"}\n",
        "-   A versatile programming language.\n",
        "\n",
        "-   It is free!\n",
        "\n",
        "-   It is widely used for data cleaning, data visualization, and data modelling.\n",
        "\n",
        "-   It can be extended with packages (libraries) developed by other users.\n",
        ":::\n",
        "\n",
        "::: {.column width=\"30%\"}\n",
        "![](images/python.png){fig-align=\"center\" width=\"324\"}\n",
        ":::\n",
        ":::::\n",
        "\n",
        "## Google Colab\n",
        "\n",
        "*Google's free cloud collaboration platform for creating Python documents.*\n",
        "\n",
        "-   Run Python and collaborate on Jupyter notebooks for free.\n",
        "\n",
        "-   Harness the power of GPUs for free to accelerate your data science projects.\n",
        "\n",
        "-   Easily save and upload your notebooks to Google Drive.\n",
        "\n",
        "![](images/Google_Colaboratory_SVG_Logo.svg.png){fig-align=\"right\" width=\"2560\"}\n",
        "\n",
        "## Let's try a command in Python\n",
        "\n",
        "What do you think will happen if we run this command?\n"
      ],
      "id": "4c5f7d16"
    },
    {
      "cell_type": "code",
      "metadata": {},
      "source": [
        "#| echo: true\n",
        "#| output: false\n",
        "\n",
        "print(\"Hello world!\")"
      ],
      "id": "4df21911",
      "execution_count": null,
      "outputs": []
    },
    {
      "cell_type": "markdown",
      "metadata": {},
      "source": [
        ". . .\n"
      ],
      "id": "77ea362c"
    },
    {
      "cell_type": "code",
      "metadata": {},
      "source": [
        "#| echo: false\n",
        "#| output: true\n",
        "\n",
        "print(\"Hello world!\")"
      ],
      "id": "ca8d448f",
      "execution_count": null,
      "outputs": []
    },
    {
      "cell_type": "markdown",
      "metadata": {},
      "source": [
        "## Let's try another command\n",
        "\n",
        "What do you think will happen if we run this command?\n"
      ],
      "id": "ddcd40f3"
    },
    {
      "cell_type": "code",
      "metadata": {},
      "source": [
        "#| echo: true\n",
        "#| output: false\n",
        "\n",
        "sum([1, 5, 10])"
      ],
      "id": "dbdbee21",
      "execution_count": null,
      "outputs": []
    },
    {
      "cell_type": "markdown",
      "metadata": {},
      "source": [
        ". . .\n"
      ],
      "id": "162d1f48"
    },
    {
      "cell_type": "code",
      "metadata": {},
      "source": [
        "#| echo: false\n",
        "#| output: true\n",
        "\n",
        "sum([1, 5, 10])"
      ],
      "id": "57179cd4",
      "execution_count": null,
      "outputs": []
    },
    {
      "cell_type": "markdown",
      "metadata": {},
      "source": [
        "## Use Python as a basic calculator\n"
      ],
      "id": "5276e20d"
    },
    {
      "cell_type": "code",
      "metadata": {},
      "source": [
        "#| echo: true\n",
        "#| output: true\n",
        "\n",
        "5 + 1"
      ],
      "id": "5ccba8da",
      "execution_count": null,
      "outputs": []
    },
    {
      "cell_type": "code",
      "metadata": {},
      "source": [
        "#| echo: true\n",
        "#| output: true\n",
        "\n",
        "10 - 3"
      ],
      "id": "da2bd600",
      "execution_count": null,
      "outputs": []
    },
    {
      "cell_type": "code",
      "metadata": {},
      "source": [
        "#| echo: true\n",
        "#| output: true\n",
        "\n",
        "2 * 4"
      ],
      "id": "072d44b0",
      "execution_count": null,
      "outputs": []
    },
    {
      "cell_type": "code",
      "metadata": {},
      "source": [
        "#| echo: true\n",
        "#| output: true\n",
        "\n",
        "9 / 3"
      ],
      "id": "330b813d",
      "execution_count": null,
      "outputs": []
    },
    {
      "cell_type": "markdown",
      "metadata": {},
      "source": [
        "## Comments\n",
        "\n",
        "</br>\n",
        "\n",
        "Sometimes we write things in the coding window that we want Python to ignore. These are called comments and start with `#`.\n",
        "\n",
        "</br>\n",
        "\n",
        "Python will ignore the comments and just execute the code.\n"
      ],
      "id": "e4cf3bbc"
    },
    {
      "cell_type": "code",
      "metadata": {},
      "source": [
        "#| echo: true\n",
        "#| output: true\n",
        "\n",
        "# you can put whatever after #\n",
        "# for example... blah blah blah"
      ],
      "id": "24394bb8",
      "execution_count": null,
      "outputs": []
    },
    {
      "cell_type": "markdown",
      "metadata": {},
      "source": [
        "::: notes\n",
        "Si desea escribir un comentario que ocupe más de una línea, es una buena idea poner un \\# al principio de cada línea.\n",
        ":::\n",
        "\n",
        "## Introduction to functions in Python\n",
        "\n",
        "</br>\n",
        "\n",
        "One of the best things about Python is that there are many built-in commands you can use. These are called *functions*.\n",
        "\n",
        ". . .\n",
        "\n",
        "Functions have two basic parts:\n",
        "\n",
        "::: incremental\n",
        "-   The first part is the name of the function (for example, `sum`).\n",
        "\n",
        "-   The second part is the input to the function, which goes inside the parentheses (`sum([1, 5, 15])`).\n",
        ":::\n",
        "\n",
        "## Python is strict\n",
        "\n",
        "Python, like all programming languages, is very strict. For example, if you write\n"
      ],
      "id": "7e0e45e0"
    },
    {
      "cell_type": "code",
      "metadata": {},
      "source": [
        "#| echo: true\n",
        "sum([1, 100])"
      ],
      "id": "2cfc04a9",
      "execution_count": null,
      "outputs": []
    },
    {
      "cell_type": "markdown",
      "metadata": {},
      "source": [
        "it will tell you the answer, 101.\n",
        "\n",
        ". . .\n",
        "\n",
        "But if you write\n"
      ],
      "id": "c9563a21"
    },
    {
      "cell_type": "code",
      "metadata": {},
      "source": [
        "#| echo: true\n",
        "#| error: true\n",
        "Sum([1, 100])"
      ],
      "id": "ca62f401",
      "execution_count": null,
      "outputs": []
    },
    {
      "cell_type": "markdown",
      "metadata": {},
      "source": [
        "with the “s” capitalized, he will act like he has no idea what we are talking about!\n",
        "\n",
        "::: notes\n",
        "lo mismo si olvidas incluir un parentesis\n",
        ":::\n",
        "\n",
        "## Save your work in Python objects\n",
        "\n",
        "</br>\n",
        "\n",
        "Virtually anything, including the results of any Python function, can be saved in an *object*.\n",
        "\n",
        "This is accomplished by using an assignment operator, which can be an equals symbol (`=`).\n",
        "\n",
        ". . .\n",
        "\n",
        "You can make up any name you want for a Python object. However, there are two basic rules for this:\n",
        "\n",
        "::: incremental\n",
        "1.  It has to be different from a function name in Python.\n",
        "2.  It has to be as specific as possible.\n",
        ":::\n",
        "\n",
        "## For example\n",
        "\n",
        "</br>\n"
      ],
      "id": "f8b5250e"
    },
    {
      "cell_type": "code",
      "metadata": {},
      "source": [
        "#| echo: true\n",
        "\n",
        "# This code will assign the number 18\n",
        "# to the object called my_favorite_number\n",
        "\n",
        "my_favorite_number = 18"
      ],
      "id": "747a572d",
      "execution_count": null,
      "outputs": []
    },
    {
      "cell_type": "markdown",
      "metadata": {},
      "source": [
        "After running this code, nothing happens. But if we run the object on its own, we can see what's inside it.\n"
      ],
      "id": "3a65fedf"
    },
    {
      "cell_type": "code",
      "metadata": {},
      "source": [
        "#| echo: true\n",
        "\n",
        "my_favorite_number"
      ],
      "id": "da1e24fb",
      "execution_count": null,
      "outputs": []
    },
    {
      "cell_type": "markdown",
      "metadata": {},
      "source": [
        "You can also use `print(my_favorite_number)`.\n",
        "\n",
        "## Lists\n",
        "\n",
        "</br>\n",
        "\n",
        "So far we have used Python objects to store a single number. But in statistics we are dealing with variation, which by definition needs more than one number.\n",
        "\n",
        ". . .\n",
        "\n",
        "A Python object can also store a complete set of numbers, called a *list*.\n",
        "\n",
        "You can think of a list as a vector of numbers (or values).\n",
        "\n",
        ". . .\n",
        "\n",
        "The `[]` command can be used to combine several individual values into a list.\n",
        "\n",
        "::: notes\n",
        "puedes pensar que el c es por combinar\n",
        ":::\n",
        "\n",
        "## For example\n",
        "\n",
        "</br>\n",
        "\n",
        "This code creates two vectors\n"
      ],
      "id": "43853c15"
    },
    {
      "cell_type": "code",
      "metadata": {},
      "source": [
        "#| echo: true\n",
        "\n",
        "my_list = [1, 2, 3, 4, 5]\n",
        "my_list_2 = [10, 10, 10, 10, 10]"
      ],
      "id": "82ffdac4",
      "execution_count": null,
      "outputs": []
    },
    {
      "cell_type": "markdown",
      "metadata": {},
      "source": [
        "Let's see its content\n"
      ],
      "id": "4069b52c"
    },
    {
      "cell_type": "code",
      "metadata": {},
      "source": [
        "#| echo: true\n",
        "my_list"
      ],
      "id": "c588f591",
      "execution_count": null,
      "outputs": []
    },
    {
      "cell_type": "code",
      "metadata": {},
      "source": [
        "#| echo: true\n",
        "my_list_2"
      ],
      "id": "6d2c269f",
      "execution_count": null,
      "outputs": []
    },
    {
      "cell_type": "markdown",
      "metadata": {},
      "source": [
        "## Operations\n",
        "\n",
        "</br>\n",
        "\n",
        "We can do simple operations with vectors. For example, we can sum all the elements of a list.\n"
      ],
      "id": "72d0af28"
    },
    {
      "cell_type": "code",
      "metadata": {},
      "source": [
        "#| echo: true\n",
        "\n",
        "my_list = [1, 2, 3, 4, 5]\n",
        "sum(my_list)"
      ],
      "id": "01e9db5a",
      "execution_count": null,
      "outputs": []
    },
    {
      "cell_type": "markdown",
      "metadata": {},
      "source": [
        "## Indexing\n",
        "\n",
        "</br>\n",
        "\n",
        "We can index a position in the vector using square brackets with a number like this: `[1]`.\n",
        "\n",
        "So, if we wanted to print the contents of the first position in `my_list`, we could write\n"
      ],
      "id": "6f5469ce"
    },
    {
      "cell_type": "code",
      "metadata": {},
      "source": [
        "#| echo: true\n",
        "\n",
        "my_list[1]"
      ],
      "id": "0544c743",
      "execution_count": null,
      "outputs": []
    },
    {
      "cell_type": "markdown",
      "metadata": {},
      "source": [
        "[**An feature of Python is that the first element of a list or vector is indexed using the number 0.**]{style=\"color:red;\"}\n"
      ],
      "id": "2120ffa4"
    },
    {
      "cell_type": "code",
      "metadata": {},
      "source": [
        "#| echo: true\n",
        "\n",
        "my_list[0]"
      ],
      "id": "a212939b",
      "execution_count": null,
      "outputs": []
    },
    {
      "cell_type": "markdown",
      "metadata": {},
      "source": [
        "## A little more about objects in Python\n",
        "\n",
        "</br>\n",
        "\n",
        "You can think of Python objects as containers that hold values.\n",
        "\n",
        "A Python object can hold a single value, or it can hold a group of values (as in a vector).\n",
        "\n",
        "So far, we've only put numbers into Python objects.\n",
        "\n",
        ". . .\n",
        "\n",
        "<br/>\n",
        "\n",
        "***Python objects can actually contain three types of values: numbers, characters, and booleans.***\n",
        "\n",
        "## Character values\n",
        "\n",
        "</br>\n",
        "\n",
        "Characters are made up of text, such as words or sentences. An example of a list with characters as elements is:\n",
        "\n",
        ". . .\n"
      ],
      "id": "0552a943"
    },
    {
      "cell_type": "code",
      "metadata": {},
      "source": [
        "#| echo: true\n",
        "\n",
        "many_greetings = [\"hi\", \"hello\", \"hola\", \"bonjour\", \"ni hao\", \"merhaba\"]\n",
        "many_greetings"
      ],
      "id": "21281ae7",
      "execution_count": null,
      "outputs": []
    },
    {
      "cell_type": "markdown",
      "metadata": {},
      "source": [
        ". . .\n",
        "\n",
        "It is important to know that numbers can also be treated as characters, depending on the context.\n",
        "\n",
        "For example, when 20 is enclosed in quotes (`\"20\"`) it will be treated as a character value, even though it encloses a number in quotes.\n",
        "\n",
        "## Boolean values\n",
        "\n",
        "</br>\n",
        "\n",
        "Boolean values are `True` or `False`.\n",
        "\n",
        "We may have a question like:\n",
        "\n",
        "-   Is the first element of the vector `many_greetings` `\"hola\"`?\n",
        "\n",
        ". . .\n",
        "\n",
        "We can ask Python to find out and return the answer `True` or `False`.\n"
      ],
      "id": "9e52cfaf"
    },
    {
      "cell_type": "code",
      "metadata": {},
      "source": [
        "#| echo: true\n",
        "\n",
        "many_greetings[1] == \"hola\""
      ],
      "id": "ffb6a1b2",
      "execution_count": null,
      "outputs": []
    },
    {
      "cell_type": "markdown",
      "metadata": {},
      "source": [
        "## Logical operators\n",
        "\n",
        "</br>\n",
        "\n",
        "Most of the questions we ask Python to answer with `True` or `False` involve comparison operators like `>`, `<`, `>=`, `<=`, and `==`.\n",
        "\n",
        "The double `==` sign checks whether two values are equal. There is even a comparison operator to check whether values are *not* equal: `!=`.\n",
        "\n",
        "For example, `5 != 3` is a `True` statement.\n",
        "\n",
        "## Common logical operators\n",
        "\n",
        "</br>\n",
        "\n",
        "-   `>` (*larger than*)\n",
        "\n",
        "-   `>=` (*larger than or equal to*)\n",
        "\n",
        "-   `<` (*smaller than*)\n",
        "\n",
        "-   `<=` (*smaller than or equal to*)\n",
        "\n",
        "-   `==` (*equal to*)\n",
        "\n",
        "-   `!=` (*not equal to*)\n",
        "\n",
        "## Question\n",
        "\n",
        "</br>\n",
        "\n",
        "Read this code and predict its response. Then, run the code in Google Colab and validate if you were correct.\n"
      ],
      "id": "ac23142e"
    },
    {
      "cell_type": "code",
      "metadata": {},
      "source": [
        "#| echo: true\n",
        "#| output: false\n",
        "\n",
        "A = 1\n",
        "B = 5\n",
        "compare = A > B\n",
        "compare"
      ],
      "id": "884400b8",
      "execution_count": null,
      "outputs": []
    },
    {
      "cell_type": "markdown",
      "metadata": {},
      "source": [
        "## Programming culture: Trial and error\n",
        "\n",
        "</br>\n",
        "\n",
        "The best way to learn programming is to try things out and see what happens. Write some code, run it, and think about why it didn't work.\n",
        "\n",
        "There are many ways to make small mistakes in programming (for example, typing a capital letter when a lowercase letter is needed).\n",
        "\n",
        "We often have to find these mistakes through trial and error.\n",
        "\n",
        "## Python libraries\n",
        "\n",
        "</br>\n",
        "\n",
        "Libraries are the fundamental units of reproducible Python code. They include reusable Python functions, documentation describing how to use them, and sample data.\n",
        "\n",
        "In this course, we will be working mostly with the following libraries:\n",
        "\n",
        "-   `pandas` for data manipulation\n",
        "-   `matplotlib` and `seaborn` for data visualization\n",
        "-   `statsmodels` and `scikit-learn` for data modelling\n",
        "\n",
        "# Reading data with Python\n",
        "\n",
        "## Data organization\n",
        "\n",
        "In data science, we organize data into rows and columns.\n",
        "\n",
        "::: center\n",
        "```         \n",
        "    Condition  Age   Wt    Wt2\n",
        "1  Uninformed   35  136  135.8\n",
        "2  Uninformed   45  162  161.8\n",
        "3    Informed   52  117  116.8\n",
        "4    Informed   29  184  182.8\n",
        "5  Uninformed   38  134  136.6\n",
        "6    Informed   39  189  183.2\n",
        "```\n",
        ":::\n",
        "\n",
        ". . .\n",
        "\n",
        "The rows are the sampled cases. In this example, the rows are housekeepers from different hotels. There are six rows, so there are six housekeepers in this data set.\n",
        "\n",
        ". . .\n",
        "\n",
        "Depending on the study, the rows could be people, states, couples, mice—any case you're taking a sample from to study.\n",
        "\n",
        "## \n",
        "\n",
        "::::: columns\n",
        "::: {.column width=\"50%\"}\n",
        "The columns represent variables or attributes of each case that were measured.\n",
        ":::\n",
        "\n",
        "::: {.column width=\"50%\"}\n",
        "```         \n",
        "    Condition  Age   Wt    Wt2\n",
        "1  Uninformed   35  136  135.8\n",
        "2  Uninformed   45  162  161.8\n",
        "3    Informed   52  117  116.8\n",
        "4    Informed   29  184  182.8\n",
        "5  Uninformed   38  134  136.6\n",
        "6    Informed   39  189  183.2\n",
        "```\n",
        ":::\n",
        ":::::\n",
        "\n",
        ". . .\n",
        "\n",
        "<br/>\n",
        "\n",
        "In this study, housekeepers were either informed or not that their daily work of cleaning hotel rooms was equivalent to getting adequate exercise for good health.\n",
        "\n",
        ". . .\n",
        "\n",
        "<br/>\n",
        "\n",
        "So one of the variables, `Condition`, indicates whether they were informed of this fact or not.\n",
        "\n",
        "## \n",
        "\n",
        "Other variables include the age of the housekeeper (`Age`), her weight before starting the study (`Wt`), and her weight at the end of the study (`Wt2`), measured four weeks later.\n",
        "\n",
        "<br/>\n",
        "\n",
        "Therefore, the values in each row represent the values of that particular case in each of the variables measured.\n",
        "\n",
        "```         \n",
        "    Condition  Age   Wt    Wt2\n",
        "1  Uninformed   35  136  135.8\n",
        "2  Uninformed   45  162  161.8\n",
        "3    Informed   52  117  116.8\n",
        "4    Informed   29  184  182.8\n",
        "5  Uninformed   38  134  136.6\n",
        "6    Informed   39  189  183.2\n",
        "```\n",
        "\n",
        "::: notes\n",
        "¿Cuántas variables hay en este conjunto de datos?\n",
        ":::\n",
        "\n",
        "## Loading data in Python\n",
        "\n",
        "In this course, we will assume that data is stored in an Excel file with the above organization. As an example, let's use the file `penguins.xlsx`.\n",
        "\n",
        "::::: columns\n",
        "::: {.column width=\"50%\"}\n",
        "![](images/print_excel.png){width=\"418\"}\n",
        ":::\n",
        "\n",
        "::: {.column width=\"50%\"}\n",
        "![](images/clipboard-1776523589.png){width=\"396\"}\n",
        ":::\n",
        ":::::\n",
        "\n",
        "::: {style=\"font-size: 85%;\"}\n",
        "[***The file must be previously uploaded to Google Colab.***]{style=\"color:red;\"}\n",
        ":::\n",
        "\n",
        "## \n",
        "\n",
        "The dataset `penguins.xlsx` contains data from penguins living in three islands.\n",
        "\n",
        "![](images/penguins_bill.png){fig-align=\"center\"}\n",
        "\n",
        "## pandas library\n",
        "\n",
        "</br>\n",
        "\n",
        "::::: columns\n",
        "::: {.column width=\"30%\"}\n",
        "![](images/pandas-logo-300.png){fig-align=\"left\"}\n",
        ":::\n",
        "\n",
        "::: {.column width=\"70%\"}\n",
        "-   **pandas** is an open-source Python library for data manipulation and analysis.\n",
        "-   It is built on top of **numpy** for high-performance data operations..\n",
        "-   It allows the user to import, clean, transform, and analyze data efficiently\n",
        "-   <https://pandas.pydata.org/>\n",
        ":::\n",
        ":::::\n",
        "\n",
        "## Importing pandas\n",
        "\n",
        "Fortunately, the **pandas** library is already pre-installed in Google Colab.\n",
        "\n",
        "</br>\n",
        "\n",
        "However, we need to inform Google Colab that we want to use **pandas** and its functions using the following command:\n"
      ],
      "id": "22bda3e1"
    },
    {
      "cell_type": "code",
      "metadata": {},
      "source": [
        "#| echo: true\n",
        "\n",
        "import pandas as pd"
      ],
      "id": "856c57b3",
      "execution_count": null,
      "outputs": []
    },
    {
      "cell_type": "markdown",
      "metadata": {},
      "source": [
        "</br>\n",
        "\n",
        "The command `as pd` allows us to have a short name for **pandas**. To use a function of **pandas**, we use the command `pd.function()`.\n",
        "\n",
        "## Loading data using pandas\n",
        "\n",
        "</br>\n",
        "\n",
        "The following code shows how to read the data in the file \"penguins.xlsx\" into Python.\n"
      ],
      "id": "701629cf"
    },
    {
      "cell_type": "code",
      "metadata": {},
      "source": [
        "#| echo: true\n",
        "\n",
        "# Load the Excel file into a pandas DataFrame.\n",
        "penguins_data = pd.read_excel(\"penguins.xlsx\")"
      ],
      "id": "0c827c25",
      "execution_count": null,
      "outputs": []
    },
    {
      "cell_type": "markdown",
      "metadata": {},
      "source": [
        "## The function head()\n",
        "\n",
        "The function `head()` allows you to print the first rows of a pandas data frame.\n"
      ],
      "id": "cbc3138c"
    },
    {
      "cell_type": "code",
      "metadata": {},
      "source": [
        "#| echo: true\n",
        "# Print the first 4 rows of the dataset.\n",
        "penguins_data.head(4)"
      ],
      "id": "56ad8e0d",
      "execution_count": null,
      "outputs": []
    },
    {
      "cell_type": "markdown",
      "metadata": {},
      "source": [
        "## Indexing variables a dataset\n",
        "\n",
        "We can select a specific variables of a data frame using the syntaxis below.\n"
      ],
      "id": "0ea685ae"
    },
    {
      "cell_type": "code",
      "metadata": {},
      "source": [
        "#| echo: true\n",
        "\n",
        "penguins_data['bill_length_mm']"
      ],
      "id": "c0f4458d",
      "execution_count": null,
      "outputs": []
    },
    {
      "cell_type": "markdown",
      "metadata": {},
      "source": [
        "Here, we selected the variable `bill_length_mm` in the `penguins_data` dataset.\n",
        "\n",
        "## \n",
        "\n",
        "To index multiple variables of a data frame, we put the names of the variables in a list object. For example, we select `bill_length_mm`, `species`, and `island` as follows:\n"
      ],
      "id": "6d105cf3"
    },
    {
      "cell_type": "code",
      "metadata": {},
      "source": [
        "#| echo: true\n",
        "\n",
        "sub_penguins_data = penguins_data[ ['bill_length_mm',  'species', 'island'] ]\n",
        "sub_penguins_data.head()"
      ],
      "id": "e782821d",
      "execution_count": null,
      "outputs": []
    },
    {
      "cell_type": "markdown",
      "metadata": {},
      "source": [
        "## Indexing rows\n",
        "\n",
        "To index rows in a dataset, we use the argument `loc` from **pandas**. For example, we select the rows 3 to 6 of the `penguins_dataset` dataset:\n"
      ],
      "id": "e9d9c7ed"
    },
    {
      "cell_type": "code",
      "metadata": {},
      "source": [
        "#| echo: true\n",
        "\n",
        "rows_penguins_data = penguins_data.loc[2:5]\n",
        "rows_penguins_data"
      ],
      "id": "4c58bdac",
      "execution_count": null,
      "outputs": []
    },
    {
      "cell_type": "markdown",
      "metadata": {},
      "source": [
        "## \n",
        "\n",
        "</br>\n"
      ],
      "id": "25434a06"
    },
    {
      "cell_type": "code",
      "metadata": {},
      "source": [
        "#| echo: true\n",
        "\n",
        "rows_penguins_data"
      ],
      "id": "04c82e18",
      "execution_count": null,
      "outputs": []
    },
    {
      "cell_type": "markdown",
      "metadata": {},
      "source": [
        "Note that the index 2 and 5 refer to observations 3 and 7, respectively, in the dataset. This is because the first index in Python is 0.\n",
        "\n",
        "## Indexing rows and columns\n",
        "\n",
        "Using `loc`, we can also retrieve a subset from the dataset by selecting specific columns and rows.\n"
      ],
      "id": "94700074"
    },
    {
      "cell_type": "code",
      "metadata": {},
      "source": [
        "#| echo: true\n",
        "\n",
        "sub_rows_pdata = penguins_data.loc[2:5, ['bill_length_mm',  'species', 'island'] ]\n",
        "sub_rows_pdata"
      ],
      "id": "109ab6c0",
      "execution_count": null,
      "outputs": []
    },
    {
      "cell_type": "markdown",
      "metadata": {},
      "source": [
        "# Data manipulation with pandas\n",
        "\n",
        "## Chaining operations with pandas\n",
        "\n",
        "One of the most important techniques in **pandas** is [**chaining**]{style=\"color:brown;\"}, which allows for cleaner and more readable data manipulation.\n",
        "\n",
        "The general structure of chaining looks like this:\n",
        "\n",
        "![](images/chaining_pandas.png){fig-align=\"center\"}\n",
        "\n",
        "## Key pandas methods\n",
        "\n",
        "**pandas** provides methods or functions to solve common data manipulation tasks:\n",
        "\n",
        "::: incremental\n",
        "-   `.filter()` selects specific columns or rows.\n",
        "\n",
        "-   `.query()` filters observations based on conditions.\n",
        "\n",
        "-   `.assign()` adds new variables that are functions of existing variables.\n",
        "\n",
        "-   `.sort_values()` changes the order of rows.\n",
        "\n",
        "-   `.agg()` reduces multiple values to a single numerical summary.\n",
        ":::\n",
        "\n",
        "## \n",
        "\n",
        "![](images/pandas_manipulation.png){fig-align=\"center\"}\n",
        "\n",
        "To practice, we will use the dataset `penguins_data`.\n",
        "\n",
        "## Selecting columns with `.filter()`\n",
        "\n",
        "Select the columns `species`, `body_mass_g` and `sex`.\n"
      ],
      "id": "90093803"
    },
    {
      "cell_type": "code",
      "metadata": {},
      "source": [
        "#| eval: true\n",
        "#| echo: true\n",
        "\n",
        "(penguins_data\n",
        "  .filter([\"species\", \"body_mass_g\", \"sex\"], axis = 1)\n",
        ").head()"
      ],
      "id": "17396f3a",
      "execution_count": null,
      "outputs": []
    },
    {
      "cell_type": "markdown",
      "metadata": {},
      "source": [
        "## \n",
        "\n",
        "</br>\n",
        "\n",
        "The `axis` argument tells `.filter()` whether to select rows (`0`) or columns (`1`) from the dataframe.\n"
      ],
      "id": "18920d65"
    },
    {
      "cell_type": "code",
      "metadata": {},
      "source": [
        "#| output: false\n",
        "#| echo: true\n",
        "\n",
        "(penguins_data\n",
        "  .filter([\"species\", \"body_mass_g\", \"sex\"], axis = 1)\n",
        ").head()"
      ],
      "id": "bdc35afb",
      "execution_count": null,
      "outputs": []
    },
    {
      "cell_type": "markdown",
      "metadata": {},
      "source": [
        "</br>\n",
        "\n",
        "> The `.head()` command allows us to print the first six rows of the newly produced dataframe. We **must** remove it to have the entire new dataframe.\n",
        "\n",
        "## \n",
        "\n",
        "</br>\n",
        "\n",
        "We can also use `.filter()` to select rows too. To this end, we set `axis = 1`. We can select specific rows, such as 0 and 10.\n"
      ],
      "id": "3fe67be0"
    },
    {
      "cell_type": "code",
      "metadata": {},
      "source": [
        "#| output: true\n",
        "#| echo: true\n",
        "\n",
        "(penguins_data\n",
        "  .filter([0, 10], axis = 0)\n",
        ")"
      ],
      "id": "252372e3",
      "execution_count": null,
      "outputs": []
    },
    {
      "cell_type": "markdown",
      "metadata": {},
      "source": [
        "## \n",
        "\n",
        "Or, we can select a set of rows using the function `range()`. For example, let's select the first 5 rows.\n"
      ],
      "id": "65ea35ea"
    },
    {
      "cell_type": "code",
      "metadata": {},
      "source": [
        "#| output: true\n",
        "#| echo: true\n",
        "\n",
        "(penguins_data\n",
        "  .filter(range(5), axis = 0)\n",
        ")"
      ],
      "id": "da67a5a8",
      "execution_count": null,
      "outputs": []
    },
    {
      "cell_type": "markdown",
      "metadata": {},
      "source": [
        "## Filtering rows with `.query()`\n",
        "\n",
        "</br>\n",
        "\n",
        "An alternative way of selecting rows is `.query()`. Compared to `.filter()`, `.query()` allows us to filter the data using statements or *queries* involving the variables.\n",
        "\n",
        "</br>\n",
        "\n",
        "For example, let's filter the data for the species \"Gentoo.\"\n"
      ],
      "id": "2df107be"
    },
    {
      "cell_type": "code",
      "metadata": {},
      "source": [
        "#| output: false\n",
        "#| echo: true\n",
        "\n",
        "(penguins_data\n",
        "  .query(\"species == 'Gentoo'\")\n",
        ")"
      ],
      "id": "fad66cd8",
      "execution_count": null,
      "outputs": []
    },
    {
      "cell_type": "markdown",
      "metadata": {},
      "source": [
        "## \n",
        "\n",
        "</br>\n"
      ],
      "id": "1073dc58"
    },
    {
      "cell_type": "code",
      "metadata": {},
      "source": [
        "#| output: true\n",
        "#| echo: true\n",
        "\n",
        "(penguins_data\n",
        "  .query(\"species == 'Gentoo'\")\n",
        ").head()"
      ],
      "id": "38cd266b",
      "execution_count": null,
      "outputs": []
    },
    {
      "cell_type": "markdown",
      "metadata": {},
      "source": [
        "## \n",
        "\n",
        "We can also filter the data to get penguins with a body mass greater than 5000g.\n"
      ],
      "id": "ce56110f"
    },
    {
      "cell_type": "code",
      "metadata": {},
      "source": [
        "#| eval: true\n",
        "#| echo: true\n",
        "\n",
        "(penguins_data\n",
        "  .query(\"body_mass_g > 5000\")\n",
        ").head()"
      ],
      "id": "3cd0c73e",
      "execution_count": null,
      "outputs": []
    },
    {
      "cell_type": "markdown",
      "metadata": {},
      "source": [
        "## \n",
        "\n",
        "We can even **combine** `.filter()` and `.query()`. For example, let's select the columns `species`, `body_mass_g` and `sex`, then filter the data for the \"Gentoo\" species.\n"
      ],
      "id": "5f732487"
    },
    {
      "cell_type": "code",
      "metadata": {},
      "source": [
        "#| eval: true\n",
        "#| echo: true\n",
        "\n",
        "(penguins_data\n",
        "  .filter([\"species\", \"body_mass_g\", \"sex\"], axis = 1)\n",
        "  .query(\"species == 'Gentoo'\")\n",
        ").head(4)"
      ],
      "id": "cfe1889c",
      "execution_count": null,
      "outputs": []
    },
    {
      "cell_type": "markdown",
      "metadata": {},
      "source": [
        "## Create new columns with `.assign()`\n",
        "\n",
        "With `.assign()`, we can create new columns (variables) that are functions of existing ones. This function uses a special Python keyword called `lambda`. Technically, this keyword defines an *anonymous* function.\n",
        "\n",
        "For example, we create a new variable `LDRatio` equaling the ratio of `bill_length_mm` and `bill_depth_mm`.\n"
      ],
      "id": "b845ac85"
    },
    {
      "cell_type": "code",
      "metadata": {},
      "source": [
        "#| output: false\n",
        "#| echo: true\n",
        "\n",
        "(penguins_data\n",
        "  .assign(LDRatio = lambda df: df[\"bill_length_mm\"] / df[\"bill_depth_mm\"])\n",
        ")"
      ],
      "id": "6d7dfff1",
      "execution_count": null,
      "outputs": []
    },
    {
      "cell_type": "markdown",
      "metadata": {},
      "source": [
        "## \n",
        "\n",
        "</br>\n",
        "\n",
        "In this code, the `df` after `lambda` indicates that the dataframe (`penguins_data`) will be referred to as `df` inside the function. The colon `:` sets the start of the function.\n"
      ],
      "id": "125d3873"
    },
    {
      "cell_type": "code",
      "metadata": {},
      "source": [
        "#| output: false\n",
        "#| echo: true\n",
        "\n",
        "(penguins_data\n",
        "  .assign(LDRatio = lambda df: df[\"bill_length_mm\"] / df[\"bill_depth_mm\"])\n",
        ")"
      ],
      "id": "277d0d57",
      "execution_count": null,
      "outputs": []
    },
    {
      "cell_type": "markdown",
      "metadata": {},
      "source": [
        "The code appends the new variable to the end of the resulting dataframe.\n",
        "\n",
        "## \n",
        "\n",
        "We can see the new variable using `.filter()`.\n"
      ],
      "id": "05c4b5bd"
    },
    {
      "cell_type": "code",
      "metadata": {},
      "source": [
        "#| output: true\n",
        "#| echo: true\n",
        "\n",
        "(penguins_data\n",
        "  .assign(LDRatio = lambda df: df[\"bill_length_mm\"] / df[\"bill_depth_mm\"])\n",
        "  .filter([\"bill_length_mm\", \"bill_depth_mm\", \"LDRatio\"], axis = 1)\n",
        ").head()"
      ],
      "id": "6f3b6a8e",
      "execution_count": null,
      "outputs": []
    },
    {
      "cell_type": "markdown",
      "metadata": {},
      "source": [
        "## Sorting with `.sort_values()`\n",
        "\n",
        "We can sort the data based on a column like `bill_length_mm`.\n"
      ],
      "id": "82735f27"
    },
    {
      "cell_type": "code",
      "metadata": {},
      "source": [
        "#| eval: true\n",
        "#| echo: true\n",
        "\n",
        "(penguins_data\n",
        "  .sort_values(\"bill_length_mm\")\n",
        ").head(4)"
      ],
      "id": "13ed191d",
      "execution_count": null,
      "outputs": []
    },
    {
      "cell_type": "markdown",
      "metadata": {},
      "source": [
        "## \n",
        "\n",
        "To sort in descending order, use `ascending=False` inside `sort_values()`.\n"
      ],
      "id": "6e65d44f"
    },
    {
      "cell_type": "code",
      "metadata": {},
      "source": [
        "#| eval: true\n",
        "#| echo: true\n",
        "\n",
        "(penguins_data\n",
        "  .sort_values(\"bill_length_mm\", ascending=False)\n",
        ").head()"
      ],
      "id": "b176981e",
      "execution_count": null,
      "outputs": []
    },
    {
      "cell_type": "markdown",
      "metadata": {},
      "source": [
        "## Summarizing with `.agg()`\n",
        "\n",
        "We can calculate summary statistics of the columns `bill_length_mm`, `bill_depth_mm`, and `body_mass_g`.\n"
      ],
      "id": "532e2489"
    },
    {
      "cell_type": "code",
      "metadata": {},
      "source": [
        "#| eval: true\n",
        "#| echo: true\n",
        "\n",
        "(penguins_data\n",
        "  .filter([\"bill_length_mm\", \"bill_depth_mm\", \"body_mass_g\"], axis = 1)\n",
        "  .agg([\"mean\"])\n",
        ")"
      ],
      "id": "55b21523",
      "execution_count": null,
      "outputs": []
    },
    {
      "cell_type": "markdown",
      "metadata": {},
      "source": [
        "</br>\n",
        "\n",
        "> By default, `agg()` ignores missing values.\n",
        "\n",
        "## Saving results in new objects\n",
        "\n",
        "</br>\n",
        "\n",
        "After performing operations on our data, we can save the modified dataset as a new object.\n"
      ],
      "id": "716ebeb3"
    },
    {
      "cell_type": "code",
      "metadata": {},
      "source": [
        "#| eval: true\n",
        "#| echo: true\n",
        "\n",
        "mean_penguins_data = (penguins_data\n",
        "  .filter([\"bill_length_mm\", \"bill_depth_mm\", \"body_mass_g\"], axis = 1)\n",
        "  .agg([\"mean\"])\n",
        ")\n",
        "\n",
        "mean_penguins_data"
      ],
      "id": "2c819465",
      "execution_count": null,
      "outputs": []
    },
    {
      "cell_type": "markdown",
      "metadata": {},
      "source": [
        "## More on pandas\n",
        "\n",
        "![](images/python_book.jpg){fig-align=\"center\"}\n",
        "\n",
        "::: {style=\"font-size: 50%;\"}\n",
        "<https://wesmckinney.com/book/>\n",
        ":::\n",
        "\n",
        "\n",
        "# [Return to main page](https://alanrvazquez.github.io/TEC-IN1002B-Website/)"
      ],
      "id": "9482ee76"
    }
  ],
  "metadata": {
    "kernelspec": {
      "display_name": "Python 3",
      "language": "python",
      "name": "python3"
    }
  },
  "nbformat": 4,
  "nbformat_minor": 5
}