{
  "cells": [
    {
      "cell_type": "markdown",
      "metadata": {},
      "source": [
        "---\n",
        "title: \"About\"\n",
        "jupyter: python3\n",
        "---\n",
        "\n",
        "\n",
        "About this site\n"
      ],
      "id": "384c1211"
    },
    {
      "cell_type": "code",
      "metadata": {},
      "source": [
        "1 + 1"
      ],
      "id": "9ae2c254",
      "execution_count": null,
      "outputs": []
    }
  ],
  "metadata": {
    "kernelspec": {
      "display_name": "Python 3",
      "language": "python",
      "name": "python3"
    }
  },
  "nbformat": 4,
  "nbformat_minor": 5
}