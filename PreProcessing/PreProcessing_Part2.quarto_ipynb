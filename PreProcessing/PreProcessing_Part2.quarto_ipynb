{
  "cells": [
    {
      "cell_type": "markdown",
      "metadata": {},
      "source": [
        "---\n",
        "title: \"Data preprocessing: Part II\"\n",
        "subtitle: \"IN1002B: Introduction to Data Science Projects\"\n",
        "author: \n",
        "  - name: Alan R. Vazquez\n",
        "    affiliations:\n",
        "      - name: Department of Industrial Engineering\n",
        "format: \n",
        "  revealjs:\n",
        "    chalkboard: false\n",
        "    multiplex: true\n",
        "    footer: \"Tecnologico de Monterrey\"\n",
        "    logo: IN1002b_logo.png\n",
        "    css: style.css\n",
        "    slide-number: True\n",
        "    html-math-method: mathjax\n",
        "editor: visual\n",
        "jupyter: python3\n",
        "---\n",
        "\n",
        "\n",
        "## Agenda\n",
        "\n",
        "</br>\n",
        "\n",
        "1.  Transforming predictors\n",
        "2.  Standarization\n",
        "3.  Dimension reduction\n",
        "\n",
        "## Before we start\n",
        "\n",
        "</br>\n",
        "\n",
        "Let's import **scikit-learn** into Python together with the other relevant libraries.\n"
      ],
      "id": "37b34e08"
    },
    {
      "cell_type": "code",
      "metadata": {},
      "source": [
        "#| echo: true\n",
        "\n",
        "import pandas as pd\n",
        "import matplotlib.pyplot as plt\n",
        "import seaborn as sns\n",
        "from sklearn.impute import SimpleImputer\n",
        "from sklearn.feature_selection import VarianceThreshold\n",
        "from sklearn.model_selection import train_test_split\n",
        "from sklearn.preprocessing import power_transform, StandardScaler "
      ],
      "id": "c23be009",
      "execution_count": null,
      "outputs": []
    },
    {
      "cell_type": "markdown",
      "metadata": {},
      "source": [
        "We will not use all the functions from the **scikit-learn** library. Instead, we will use specific functions from the sub-libraries **preprocessing**, **feature_selection**, **model_selection** and **impute**.\n",
        "\n",
        "\n",
        "# Transforming predictors\n",
        "\n",
        "## Categorical predictors\n",
        "\n",
        "A [**categorical predictor**]{style=\"color:darkgreen;\"} takes on values that are nominal categories.\n",
        "\n",
        ". . .\n",
        "\n",
        "For example:\n",
        "\n",
        "-   Type of school: Public or private.\n",
        "\n",
        "-   Treatment: New or placebo.\n",
        "\n",
        "-   Grade: Passed or not passed.\n",
        "\n",
        ". . .\n",
        "\n",
        "The categories can be represented by names, labels or even numbers. Their use in regression requires **dummy variables**, which are numeric variables.\n",
        "\n",
        "## Dummy variables\n",
        "\n",
        "</br></br>\n",
        "\n",
        "> The traditional choice for a dummy variable is a binary variable, which can only take the values 0 and 1.\n",
        "\n",
        "</br>\n",
        "\n",
        "***Initially, a categorical variable with*** $k$ ***categories requires*** $k$ ***dummy variables.***\n",
        "\n",
        "## Example 2\n",
        "\n",
        "A market analyst is studying quality characteristics of cars. Specifically, the analyst is investigating the miles per gallon (mpg) of cars can be predicted using:\n",
        "\n",
        "-   $X_1:$ cylinders. Number of cylinders between 4 and 8\n",
        "-   $X_2:$ displacement. Engine displacement (cu. inches)\n",
        "-   $X_3:$ horsepower. Engine horsepower\n",
        "-   $X_4:$ weight. Vehicle weight (lbs.)\n",
        "-   $X_5:$ acceleration. Time to accelerate from 0 to 60 mph (sec.)\n",
        "-   $X_6:$ origin. Origin of car (American, European, Japanese)\n",
        "\n",
        "## \n",
        "\n",
        "</br></br>\n",
        "\n",
        "The dataset is in the file \"auto.xlsx\". Let's read the data using **pandas**.\n"
      ],
      "id": "3e912580"
    },
    {
      "cell_type": "code",
      "metadata": {},
      "source": [
        "#| echo: true\n",
        "\n",
        "# Load the Excel file into a pandas DataFrame.\n",
        "auto_data = pd.read_excel(\"auto.xlsx\")\n",
        "\n",
        "# Set categorical variables.\n",
        "auto_data['origin'] = pd.Categorical(auto_data['origin'])"
      ],
      "id": "654c6af9",
      "execution_count": null,
      "outputs": []
    },
    {
      "cell_type": "markdown",
      "metadata": {},
      "source": [
        "## \n"
      ],
      "id": "8d58469e"
    },
    {
      "cell_type": "code",
      "metadata": {},
      "source": [
        "# Print the first 4 rows of the dataset.\n",
        "auto_data.head(4)"
      ],
      "id": "7700b047",
      "execution_count": null,
      "outputs": []
    },
    {
      "cell_type": "markdown",
      "metadata": {},
      "source": [
        "## Dealing with missing values\n",
        "\n",
        "</br>\n",
        "\n",
        "The dataset has missing values. In this example, we remove each row with at least one missing value.\n",
        "\n",
        "</br>\n"
      ],
      "id": "726812b1"
    },
    {
      "cell_type": "code",
      "metadata": {},
      "source": [
        "#| echo: true\n",
        "\n",
        "# Remove rows with missing values.\n",
        "complete_Auto = auto_data.dropna()"
      ],
      "id": "e9bb04af",
      "execution_count": null,
      "outputs": []
    },
    {
      "cell_type": "markdown",
      "metadata": {},
      "source": [
        "## Example 2 (cont.)\n",
        "\n",
        "Categorical predictor: Origin of a car. Three categories: American, European and Japanese.\n",
        "\n",
        "Initially, 3 dummy variables are required:\n",
        "\n",
        "$$d_1 =\n",
        "\\begin{cases}\n",
        "1 \\text{ if observation is from an American car}\\\\\n",
        "0 \\text{ otherwise}\n",
        "\\end{cases}$$ $$d_2 =\n",
        "\\begin{cases}\n",
        "1 \\text{ if observation is from an European car}\\\\\n",
        "0 \\text{ otherwise}\n",
        "\\end{cases}$$ $$d_3 =\n",
        "\\begin{cases}\n",
        "1 \\text{ if observation is from a Japanese car}\\\\\n",
        "0 \\text{ otherwise}\n",
        "\\end{cases}$$\n",
        "\n",
        "## \n",
        "\n",
        "The variable Origin would then be replaced by the three dummy variables\n",
        "\n",
        "| Origin ($X$) | $d_1$    | $d_2$    | $d_3$    |\n",
        "|--------------|----------|----------|----------|\n",
        "| American     | 1        | 0        | 0        |\n",
        "| American     | 1        | 0        | 0        |\n",
        "| European     | 0        | 1        | 0        |\n",
        "| European     | 0        | 1        | 0        |\n",
        "| American     | 1        | 0        | 0        |\n",
        "| Japanese     | 0        | 0        | 1        |\n",
        "| $\\vdots$     | $\\vdots$ | $\\vdots$ | $\\vdots$ |\n",
        "\n",
        "## A drawback\n",
        "\n",
        "</br>\n",
        "\n",
        "::: incremental\n",
        "-   A drawback with the initial dummy variables is that they are [**linearly dependent**]{style=\"color:red;\"}. That is, $d_1 + d_2 + d_3 = 1$.\n",
        "\n",
        "-   Therefore, we can determine the value of $d_1 = 1- d_2 - d_3.$\n",
        "\n",
        "-   Predictive models such as linear regression are sensitive to linear dependencies among predictors.\n",
        "\n",
        "-   **The solution is to drop one of the predictor**, say, $d_1$, from the data.\n",
        ":::\n",
        "\n",
        "## \n",
        "\n",
        "The variable Origin would then be replaced by the three dummy variables.\n",
        "\n",
        "| Origin ($X$) | $d_2$    | $d_3$    |\n",
        "|--------------|----------|----------|\n",
        "| American     | 0        | 0        |\n",
        "| American     | 0        | 0        |\n",
        "| European     | 1        | 0        |\n",
        "| European     | 1        | 0        |\n",
        "| American     | 0        | 0        |\n",
        "| Japanese     | 0        | 1        |\n",
        "| $\\vdots$     | $\\vdots$ | $\\vdots$ |\n",
        "\n",
        "## Dummy variables in Python\n",
        "\n",
        "</br>\n",
        "\n",
        "We can get the dummy variables of a categorical variable using the function `pd.get_dummies()` from **pandas**.\n",
        "\n",
        "The input of the function is the categorical variable.\n",
        "\n",
        "The function has an extra argument called `drop_first` to drop the first dummy variable. It also has the argument `dtype` to show the values as integers.\n"
      ],
      "id": "e373f2bd"
    },
    {
      "cell_type": "code",
      "metadata": {},
      "source": [
        "#| echo: true\n",
        "\n",
        "dummy_data = pd.get_dummies(complete_Auto['origin'], drop_first = True, \n",
        "                            dtype = 'int')"
      ],
      "id": "d870c616",
      "execution_count": null,
      "outputs": []
    },
    {
      "cell_type": "markdown",
      "metadata": {},
      "source": [
        "## \n",
        "\n",
        "</br></br>\n"
      ],
      "id": "dd468a1f"
    },
    {
      "cell_type": "code",
      "metadata": {},
      "source": [
        "#| echo: true\n",
        "\n",
        "dummy_data.head()"
      ],
      "id": "37fb4192",
      "execution_count": null,
      "outputs": []
    },
    {
      "cell_type": "markdown",
      "metadata": {},
      "source": [
        "## \n",
        "\n",
        "Now, to add the dummy variables to the dataset, we use the function `concat()` from **pandas**.\n"
      ],
      "id": "ee2119c2"
    },
    {
      "cell_type": "code",
      "metadata": {},
      "source": [
        "#| echo: true\n",
        "\n",
        "augmented_auto = pd.concat([complete_Auto, dummy_data], axis = 1)\n",
        "augmented_auto.head()"
      ],
      "id": "d689c97e",
      "execution_count": null,
      "outputs": []
    },
    {
      "cell_type": "markdown",
      "metadata": {},
      "source": [
        "## Transforming numerical predictors\n",
        "\n",
        "</br>\n",
        "\n",
        "A common problem with a predictor is that it may have a *skewed distribution*. That is, a distribution that accumulates many observations in smaller or larger values of the predictor.\n",
        "\n",
        "For example, consider the distribution of the predictor `DIS` (weighted mean of distances to five Boston employment centers) in the `Boston_data`.\n"
      ],
      "id": "6655fc13"
    },
    {
      "cell_type": "code",
      "metadata": {},
      "source": [
        "#| echo: true\n",
        "#| output: true\n",
        "\n",
        "# Load Excel file (make sure the file is in your Colab)\n",
        "Boston_data = pd.read_excel('BostonHousing.xlsx')\n",
        "\n",
        "# Drop the categorical variable.\n",
        "Boston_data['CHAS'] = pd.Categorical(Boston_data['CHAS'])"
      ],
      "id": "59bed20c",
      "execution_count": null,
      "outputs": []
    },
    {
      "cell_type": "markdown",
      "metadata": {},
      "source": [
        "## \n"
      ],
      "id": "b8f6e31e"
    },
    {
      "cell_type": "code",
      "metadata": {},
      "source": [
        "#| echo: true\n",
        "#| code-fold: true\n",
        "#| fig-align: center\n",
        "\n",
        "plt.figure(figsize=(7,4)) # Create space for figure.\n",
        "sns.histplot(data = Boston_data, x = 'DIS') # Create the histogram.\n",
        "plt.title(\"Histogram of DIS\") # Plot title.\n",
        "plt.xlabel(\"DIS\") # X label\n",
        "plt.show() # Display the plot"
      ],
      "id": "95f429b8",
      "execution_count": null,
      "outputs": []
    },
    {
      "cell_type": "markdown",
      "metadata": {},
      "source": [
        "We see that many of the predictor values are on the right of the plot, while few are on the left.\n",
        "\n",
        "## Problems with strong skewness\n",
        "\n",
        "</br>\n",
        "\n",
        "Strong skewness in a predictor can:\n",
        "\n",
        "-   Distort the relationship with the response.\n",
        "-   Violate the assumptions of the linear regression model (e.g., linearity, homoscedasticity).\n",
        "-   Lead to influential outliers or poor model fit.\n",
        "\n",
        "To correct the skewness of a predictor's distribution, we can transform the predictor using the [**Box-Cox transformation**]{style=\"color:orange;\"}\n",
        "\n",
        "## Box-Cox Transformation\n",
        "\n",
        "</br>\n",
        "\n",
        "The Box-Cox transformation uses a family of power transformations on a predictor $X$ such that $X' = X^{\\lambda}$, where $\\lambda$ is a parameter to be determined using the data. When $\\lambda = 0,$ this means $X' = \\ln(X)$, where $\\ln(\\cdot)$ is the natural logarithm.\n",
        "\n",
        "The Box-Cox transformation is the element of this family that results in a transformed variable that follows a normal distribution (approximately).\n",
        "\n",
        "[The variable $X$ must be strictly positive!]{style=\"color:blue;\"}\n",
        "\n",
        "## In Python\n",
        "\n",
        "We apply the Box-Cox transformation using the `power_transformation` function of the **scikit-learn** library.\n"
      ],
      "id": "f134b92b"
    },
    {
      "cell_type": "code",
      "metadata": {},
      "source": [
        "#| echo: true\n",
        "\n",
        "DIS_transform = power_transform(Boston_data[['DIS']], method = \"box-cox\")\n",
        "DIS_transform_df = pd.DataFrame(DIS_transform, columns=['DIS_boxcox'])\n",
        "DIS_transform_df.head(3)"
      ],
      "id": "69a26083",
      "execution_count": null,
      "outputs": []
    },
    {
      "cell_type": "markdown",
      "metadata": {},
      "source": [
        "In the code above, we use the `pd.DataFrame()` to turn the transformed column into a pandas dataframe.\n",
        "\n",
        "## \n",
        "\n",
        "</br>\n",
        "\n",
        "::::: columns\n",
        "::: {.column width=\"50%\"}\n",
        "Original predictor\n"
      ],
      "id": "8b291efe"
    },
    {
      "cell_type": "code",
      "metadata": {},
      "source": [
        "#| echo: true\n",
        "#| code-fold: true\n",
        "#| fig-align: center\n",
        "\n",
        "plt.figure(figsize=(7,4)) # Create space for figure.\n",
        "sns.histplot(data = Boston_data, x = 'DIS') # Create the histogram.\n",
        "plt.title(\"Histogram of DIS\") # Plot title.\n",
        "plt.xlabel(\"DIS\") # X label\n",
        "plt.show() # Display the plot"
      ],
      "id": "0e8b9af9",
      "execution_count": null,
      "outputs": []
    },
    {
      "cell_type": "markdown",
      "metadata": {},
      "source": [
        ":::\n",
        "\n",
        "::: {.column width=\"50%\"}\n",
        "Box-Cox transformation\n"
      ],
      "id": "cc817dee"
    },
    {
      "cell_type": "code",
      "metadata": {},
      "source": [
        "#| echo: true\n",
        "#| code-fold: true\n",
        "#| fig-align: center\n",
        "\n",
        "plt.figure(figsize=(7,4)) # Create space for figure.\n",
        "sns.histplot(data = DIS_transform_df, x = 'DIS_boxcox') # Create the histogram.\n",
        "plt.title(\"Histogram of transformed DIS\") # Plot title.\n",
        "plt.xlabel(\"DIS (Box-Cox transformation\") # X label\n",
        "plt.show() # Display the plot"
      ],
      "id": "2f062d28",
      "execution_count": null,
      "outputs": []
    },
    {
      "cell_type": "markdown",
      "metadata": {},
      "source": [
        ":::\n",
        ":::::\n",
        "\n",
        "## Discussion\n",
        "\n",
        "</br></br>\n",
        "\n",
        "The Box-Cox transformation can:\n",
        "\n",
        "-   Make the distribution of a predictor more symmetric.\n",
        "\n",
        "-   Help to linearize the relationship with the response.\n",
        "\n",
        "After transformation, the predictor $X'$ must be used instead of the original predictor $X$.\n",
        "\n",
        "# Standarization\n",
        "\n",
        "## Predictors with different units\n",
        "\n",
        "Many good predictive models have issues with [**numeric predictors**]{style=\"color:blue;\"} with different units:\n",
        "\n",
        "1.  Methods such as K-nearest neighbors are based on the distance between observations. If the predictors are on different units or scales, then some predictors will have a larger weight for computing the distance.\n",
        "\n",
        "2.  Other methods such as LASSO use the variances of the predictors in their calculations. Predictors with different scales will have different variances and so, those with a higher variance will play a bigger role in the calculations.\n",
        "\n",
        "## \n",
        "\n",
        "</br></br></br></br>\n",
        "\n",
        "::: {style=\"font-size: 150%;\"}\n",
        "[***In a nutshell, some predictors will have a higher impact in the model due to its unit and not its information provided to it.***]{style=\"color:purple;\"}\n",
        ":::\n",
        "\n",
        "## Standarization\n",
        "\n",
        "</br>\n",
        "\n",
        "Standardization refers to *centering* and *scaling* each numeric predictor individually. It puts every predictor on the same scale.\n",
        "\n",
        "To **center** a predictor variable, the average predictor value is subtracted from all the values.\n",
        "\n",
        "Therefore, the centered predictor has a zero mean (that is, its average value is zero).\n",
        "\n",
        "## \n",
        "\n",
        "</br>\n",
        "\n",
        "To **scale** a predictor, each of its value is divided by its standard deviation.\n",
        "\n",
        "Scaling the data coerce the values to have a common standard deviation of one.\n",
        "\n",
        "In mathematical terms, we standardize a predictor as:\n",
        "\n",
        "$${\\color{blue} \\tilde{x}_{i}} = \\frac{{ x_{i} - \\bar{x}}}{ \\sqrt{\\frac{1}{n -1} \\sum_{i=1}^{n} (x_{i} - \\bar{x})^2}},$$\n",
        "\n",
        "with $\\bar{x} = \\sum_{i=1}^n \\frac{x_i}{n}$.\n",
        "\n",
        "## Example 2 (cont.)\n",
        "\n",
        "</br>\n",
        "\n",
        "We concentrate on the five numerical predictors in the `complete_Auto` dataset.\n"
      ],
      "id": "3db9e477"
    },
    {
      "cell_type": "code",
      "metadata": {},
      "source": [
        "#| echo: true\n",
        "\n",
        "# Select specific variables.\n",
        "complete_sbAuto = complete_Auto[['cylinders', 'displacement', \n",
        "                                 'horsepower', 'weight', \n",
        "                                 'acceleration']]"
      ],
      "id": "7c6c9025",
      "execution_count": null,
      "outputs": []
    },
    {
      "cell_type": "markdown",
      "metadata": {},
      "source": [
        "## Two predictors in original units\n",
        "\n",
        "Consider the `complete_sbAuto` dataset created previously. Consider two points in the plot: $(175, 5140)$ and $(69, 1613)$.\n",
        "\n",
        "::::: columns\n",
        "::: {.column width=\"50%\"}"
      ],
      "id": "c73938d3"
    },
    {
      "cell_type": "code",
      "metadata": {},
      "source": [
        "#| echo: false\n",
        "#| output: true\n",
        "#| fig-align: center\n",
        "\n",
        "plt.figure(figsize=(5,5))\n",
        "sns.scatterplot(data = complete_sbAuto, x = 'horsepower', y = 'weight')\n",
        "plt.scatter(x = 175, y = 5140, color = 'red')\n",
        "plt.scatter(x = 69, y = 1613, color = 'red')\n",
        "plt.xlabel('Horsepower', fontsize=14)\n",
        "plt.ylabel('Weight', fontsize=14)\n",
        "plt.show()"
      ],
      "id": "e9e95243",
      "execution_count": null,
      "outputs": []
    },
    {
      "cell_type": "markdown",
      "metadata": {},
      "source": [
        ":::\n",
        "\n",
        "::: {.column width=\"50%\"}\n",
        "</br>\n",
        "\n",
        "The distance between these points is $\\sqrt{(69 - 175)^2 + (1613-5140)^2}$ $= \\sqrt{11236 + 12439729}$ $= 3528.592$.\n",
        ":::\n",
        ":::::\n",
        "\n",
        "## Standarization in Python\n",
        "\n",
        "</br>\n",
        "\n",
        "To standardize **numerical** predictors, we use the function `StandardScaler()`. Moreover, we apply the function to the variables using the function `fit_transform()`.\n",
        "\n",
        "</br>\n"
      ],
      "id": "b853aa03"
    },
    {
      "cell_type": "code",
      "metadata": {},
      "source": [
        "#| echo: true\n",
        "\n",
        "scaler = StandardScaler()\n",
        "Xs = scaler.fit_transform(complete_sbAuto)"
      ],
      "id": "e90764bb",
      "execution_count": null,
      "outputs": []
    },
    {
      "cell_type": "markdown",
      "metadata": {},
      "source": [
        "## \n",
        "\n",
        "Unfortunately, the resulting object is not a pandas data frame. We then convert this object to this format. </br>\n"
      ],
      "id": "dfe0af91"
    },
    {
      "cell_type": "code",
      "metadata": {},
      "source": [
        "#| echo: true\n",
        "\n",
        "scaled_df = pd.DataFrame(Xs, columns = complete_sbAuto.columns)\n",
        "scaled_df.head()"
      ],
      "id": "279b270c",
      "execution_count": null,
      "outputs": []
    },
    {
      "cell_type": "markdown",
      "metadata": {},
      "source": [
        "## Two predictors in standardized units\n",
        "\n",
        "In the new scale, the two points are now: $(1.82, 2.53)$ and $(-0.91, -1.60)$.\n",
        "\n",
        "::::: columns\n",
        "::: {.column width=\"50%\"}"
      ],
      "id": "7b7c4f62"
    },
    {
      "cell_type": "code",
      "metadata": {},
      "source": [
        "#| echo: false\n",
        "#| output: true\n",
        "#| fig-align: center\n",
        "\n",
        "plt.figure(figsize=(5,5))\n",
        "sns.scatterplot(data = scaled_df, x = 'horsepower', y = 'weight')\n",
        "plt.scatter(x = 1.83, y = 2.54, color = 'red')\n",
        "plt.scatter(x = -0.915, y = -1.605, color = 'red')\n",
        "plt.xlabel('Standardized horsepower', fontsize=14)\n",
        "plt.ylabel('Standardized weight', fontsize=14)\n",
        "plt.show()"
      ],
      "id": "d00e19fa",
      "execution_count": null,
      "outputs": []
    },
    {
      "cell_type": "markdown",
      "metadata": {},
      "source": [
        ":::\n",
        "\n",
        "::: {.column width=\"50%\"}\n",
        "</br>\n",
        "\n",
        "The distance between these points is $\\sqrt{(-0.91 - 1.82)^2 + (-1.60-2.53)^2}$ $= \\sqrt{7.45 + 17.05} = 4.95$.\n",
        ":::\n",
        ":::::\n",
        "\n",
        "## Discussion\n",
        "\n",
        "::: incremental\n",
        "-   Standardized predictors are generally used to improve the numerical stability of some calculations.\n",
        "\n",
        "-   It is generally recommended to always standardize numeric predictors. Perhaps the only exception would be if we consider a linear regression model.\n",
        "\n",
        "-   A drawback of these transformations is the [***loss of interpretability***]{style=\"color:pink;\"} since the data are no longer in the original units.\n",
        "\n",
        "-   Standardizing the predictors does not affect their correlation.\n",
        ":::\n",
        "\n",
        "# Dimension reduction\n",
        "\n",
        "## Dimension reduction\n",
        "\n",
        "Here, we will discuss methods to reduce the number of predictors in a dataset. In other words, to reduce the dimension of the dataset.\n",
        "\n",
        "High-dimensional datasets can cause problems when training or fitting linear regression models. It also happens that a high-dimensional dataset can also have poorer predictive performance than a dataset with few, well selected predictors.\n",
        "\n",
        "In particular, we will discuss the methods:\n",
        "\n",
        "1.  Filtering predictors based on near-zero variance and correlation.\n",
        "2.  Principal component analysis.\n",
        "\n",
        "## Removing predictors\n",
        "\n",
        "</br>\n",
        "\n",
        "There are potential advantages to removing predictors prior to modeling:\n",
        "\n",
        "::: incremental\n",
        "-   Fewer predictors means decreased computational time and complexity.\n",
        "\n",
        "-   If two predictors are highly-correlated, they are measuring the same underlying information. So, removing one should not compromise the performance of the model.\n",
        ":::\n",
        "\n",
        ". . .\n",
        "\n",
        "Here, we will see two techniques to remove predictors.\n",
        "\n",
        "## Near-Zero variance predictors\n",
        "\n",
        "</br>\n",
        "\n",
        "A **near-zero variance predictor variable** is one that has only a handful of unique values that occur with very low frequencies.\n",
        "\n",
        "</br>\n",
        "\n",
        ". . .\n",
        "\n",
        "If the predictor has a single unique value, then it is called a **zero-variance predictor variable**.\n",
        "\n",
        "</br>\n",
        "\n",
        ". . .\n",
        "\n",
        "Since the values of this predictor variable do not vary or change at all, this predictor does not provide any information to the model and must be discarded.\n",
        "\n",
        "## Example 3\n",
        "\n",
        "</br>\n",
        "\n",
        "We consider a data set related to Glass identification. The data has 214 glass samples labeled as one of seven glass categories. There are nine predictors including the refractive index (RI) and percentages of eight elements: Na, Mg, Al, Si, K, Ca, Ba, and Fe.\n",
        "\n",
        "Let's read the data set. Note that this is a modified version of the original data.\n"
      ],
      "id": "4f1852ff"
    },
    {
      "cell_type": "code",
      "metadata": {},
      "source": [
        "#| echo: true\n",
        "#| output: true\n",
        "\n",
        "# Load Excel file (make sure the file is in your Colab)\n",
        "glass_data = pd.read_excel('glass.xlsx')\n",
        "\n",
        "# Drop the categorical variable.\n",
        "sb_glass = glass_data.drop(columns=['Type'])"
      ],
      "id": "1d9af7c7",
      "execution_count": null,
      "outputs": []
    },
    {
      "cell_type": "markdown",
      "metadata": {},
      "source": [
        "## In Python\n",
        "\n",
        "We use the function `VarianceThreshold()` to set the threshold for determining a *low* sample variance. We also use other functions such as `selector.fit()` and `selector.get_support()`.\n"
      ],
      "id": "af50a55d"
    },
    {
      "cell_type": "code",
      "metadata": {},
      "source": [
        "#| echo: true\n",
        "#| output: true\n",
        "\n",
        "# Set threshold\n",
        "selector = VarianceThreshold(threshold=0.01)\n",
        "\n",
        "# Apply threshold.\n",
        "selector.fit(sb_glass)\n",
        "\n",
        "# Identify predictors with low variance.\n",
        "low_variance_cols = sb_glass.columns[~selector.get_support()]\n",
        "\n",
        "# Print the list of predictors.\n",
        "print(f\"Low variance columns: {low_variance_cols}\")"
      ],
      "id": "825dcd0b",
      "execution_count": null,
      "outputs": []
    },
    {
      "cell_type": "markdown",
      "metadata": {},
      "source": [
        "## \n",
        "\n",
        "</br></br>\n",
        "\n",
        "After identifying predictors with low variability, we remove them from the problem because they do not add much to the problem. To this end, we use the command below.\n",
        "\n",
        "</br>\n"
      ],
      "id": "b4ad5730"
    },
    {
      "cell_type": "code",
      "metadata": {},
      "source": [
        "#| echo: true\n",
        "#| output: true\n",
        "\n",
        "# Removing problematic predictors\n",
        "sb_reduced_glass = sb_glass.drop(columns=low_variance_cols)"
      ],
      "id": "63a42499",
      "execution_count": null,
      "outputs": []
    },
    {
      "cell_type": "markdown",
      "metadata": {},
      "source": [
        "## Between-predictor correlation\n",
        "\n",
        "</br>\n",
        "\n",
        "[**Collinearity**]{style=\"color:purple;\"} is the technical term for the situation where two predictors have a substantial correlation with each other.\n",
        "\n",
        "If two or more predictors are highly correlated (either negatively or positively), then methods such as the linear regression model will not work!\n",
        "\n",
        "To visualize the severity of collinearity between predictors, we calculate and visualize the *correlation matrix*.\n",
        "\n",
        "## Example 2 (cont.)\n",
        "\n",
        "</br>\n",
        "\n",
        "We concentrate on the five numerical predictors in the `complete_Auto` dataset.\n"
      ],
      "id": "36d604f6"
    },
    {
      "cell_type": "code",
      "metadata": {},
      "source": [
        "#| echo: true\n",
        "\n",
        "# Select specific variables.\n",
        "complete_sbAuto = complete_Auto[['cylinders', 'displacement', \n",
        "                                 'horsepower', 'weight', \n",
        "                                 'acceleration']]"
      ],
      "id": "33343833",
      "execution_count": null,
      "outputs": []
    },
    {
      "cell_type": "markdown",
      "metadata": {},
      "source": [
        "## Correlation matrix\n",
        "\n",
        "</br>\n",
        "\n",
        "In Python, we calculate the correlation matrix using the command below.\n"
      ],
      "id": "58f0727a"
    },
    {
      "cell_type": "code",
      "metadata": {},
      "source": [
        "#| echo: true\n",
        "#| output: true\n",
        "\n",
        "correlation_matrix = complete_sbAuto.corr()\n",
        "print(correlation_matrix)"
      ],
      "id": "6561523e",
      "execution_count": null,
      "outputs": []
    },
    {
      "cell_type": "markdown",
      "metadata": {},
      "source": [
        "## \n",
        "\n",
        "Next, we plot the correlation matrix using the function `heatmap()` from **seaborn**. The argument `annot` shows the actual value of the pair-wise correlations, and `cmap` shows a nice color theme.\n"
      ],
      "id": "349b0bfc"
    },
    {
      "cell_type": "code",
      "metadata": {},
      "source": [
        "#| echo: true\n",
        "#| output: true\n",
        "#| fig-align: center\n",
        "\n",
        "plt.figure(figsize=(3,3))\n",
        "sns.heatmap(correlation_matrix, cmap='coolwarm', annot = True)"
      ],
      "id": "f81ef87d",
      "execution_count": null,
      "outputs": []
    },
    {
      "cell_type": "markdown",
      "metadata": {},
      "source": [
        "## \n",
        "\n",
        "</br>\n",
        "\n",
        "The predictors cylinders and displacement are highly correlated. In fact, their correlation is 0.95.\n"
      ],
      "id": "a848772a"
    },
    {
      "cell_type": "code",
      "metadata": {},
      "source": [
        "#| echo: false\n",
        "#| output: true\n",
        "#| fig-align: center\n",
        "\n",
        "plt.figure(figsize=(7,5))\n",
        "sns.scatterplot(data = complete_sbAuto, x = 'cylinders', y = 'displacement')\n",
        "plt.xlabel('cylinders', fontsize = 14)\n",
        "plt.ylabel('displacement', fontsize = 14)\n",
        "plt.show()"
      ],
      "id": "94d20084",
      "execution_count": null,
      "outputs": []
    },
    {
      "cell_type": "markdown",
      "metadata": {},
      "source": [
        "## In practice\n",
        "\n",
        "</br>\n",
        "\n",
        "We deal with collinearity by removing the minimum number of predictors to ensure that all pairwise correlations are below a certain threshold, say, 0.75.\n",
        "\n",
        "We can identify the variables that are highly correlated using quite complex code. However, here we will do it manually using the correlation map.\n"
      ],
      "id": "b477bb08"
    },
    {
      "cell_type": "code",
      "metadata": {},
      "source": [
        "#| echo: true\n",
        "#| output: true\n",
        "\n",
        "# Dataset without highly correlated predictors.\n",
        "reduced_auto = complete_sbAuto[ ['weight', 'acceleration']]"
      ],
      "id": "fd73160c",
      "execution_count": null,
      "outputs": []
    },
    {
      "cell_type": "markdown",
      "metadata": {},
      "source": [
        "# [Return to main page](https://alanrvazquez.github.io/TEC-IN1002B-Website/)"
      ],
      "id": "e759c730"
    }
  ],
  "metadata": {
    "kernelspec": {
      "display_name": "Python 3",
      "language": "python",
      "name": "python3"
    }
  },
  "nbformat": 4,
  "nbformat_minor": 5
}