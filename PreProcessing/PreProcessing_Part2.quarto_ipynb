{
  "cells": [
    {
      "cell_type": "markdown",
      "metadata": {},
      "source": [
        "---\n",
        "title: \"Data preprocessing: Part II\"\n",
        "subtitle: \"IN1002B: Introduction to Data Science Projects\"\n",
        "author: \n",
        "  - name: Alan R. Vazquez\n",
        "    affiliations:\n",
        "      - name: Department of Industrial Engineering\n",
        "format: \n",
        "  revealjs:\n",
        "    chalkboard: false\n",
        "    multiplex: true\n",
        "    footer: \"Tecnologico de Monterrey\"\n",
        "    logo: IN1002b_logo.png\n",
        "    css: style.css\n",
        "    slide-number: True\n",
        "    html-math-method: mathjax\n",
        "editor: visual\n",
        "jupyter: python3\n",
        "---\n",
        "\n",
        "\n",
        "## Agenda\n",
        "\n",
        "</br>\n",
        "\n",
        "1.  Transforming predictors\n",
        "2.  Reducing the number of predictors\n",
        "3.  Standardizing the units of the predictors\n",
        "\n",
        "## Before we start\n",
        "\n",
        "</br>\n",
        "\n",
        "Let's import **scikit-learn** into Python together with the other relevant libraries.\n"
      ],
      "id": "c219f734"
    },
    {
      "cell_type": "code",
      "metadata": {},
      "source": [
        "#| echo: true\n",
        "\n",
        "import pandas as pd\n",
        "import matplotlib.pyplot as plt\n",
        "import seaborn as sns\n",
        "from sklearn.model_selection import train_test_split\n",
        "from sklearn.impute import SimpleImputer, KNNImputer\n",
        "from sklearn.preprocessing import PowerTransformer, StandardScaler \n",
        "from sklearn.feature_selection import VarianceThreshold"
      ],
      "id": "30a298b1",
      "execution_count": null,
      "outputs": []
    },
    {
      "cell_type": "markdown",
      "metadata": {},
      "source": [
        "We will not use all the functions from the **scikit-learn** library. Instead, we will use specific functions from the sub-libraries **preprocessing**, **feature_selection**, **model_selection** and **impute**.\n",
        "\n",
        "# Transforming predictors\n",
        "\n",
        "## Categorical predictors\n",
        "\n",
        "A [**categorical predictor**]{style=\"color:darkgreen;\"} takes on values that are categories or groups.\n",
        "\n",
        ". . .\n",
        "\n",
        "For example:\n",
        "\n",
        "-   Type of school: Public or private.\n",
        "\n",
        "-   Treatment: New or placebo.\n",
        "\n",
        "-   Grade: Passed or not passed.\n",
        "\n",
        ". . .\n",
        "\n",
        "The categories can be represented by names, labels or even numbers. Their use in regression requires **dummy variables**, which are numeric.\n",
        "\n",
        "## Dummy variables\n",
        "\n",
        "</br></br>\n",
        "\n",
        "> The traditional choice for a dummy variable is a binary variable, which can only take the values 0 and 1.\n",
        "\n",
        "</br>\n",
        "\n",
        "***Initially, a categorical variable with*** $k$ ***categories requires*** $k$ ***dummy variables.***\n",
        "\n",
        "## Example 1\n",
        "\n",
        "A market analyst is studying quality characteristics of cars. Specifically, the analyst is investigating the miles per gallon (mpg) of cars can be predicted using:\n",
        "\n",
        "-   $X_1:$ cylinders. Number of cylinders between 4 and 8\n",
        "-   $X_2:$ displacement. Engine displacement (cu. inches)\n",
        "-   $X_3:$ horsepower. Engine horsepower\n",
        "-   $X_4:$ weight. Vehicle weight (lbs.)\n",
        "-   $X_5:$ acceleration. Time to accelerate from 0 to 60 mph (sec.)\n",
        "-   $X_6:$ origin. Origin of car (American, European, Japanese)\n",
        "\n",
        "## \n",
        "\n",
        "</br></br>\n",
        "\n",
        "The dataset is in the file \"auto.xlsx\". Let's read the data using **pandas**.\n"
      ],
      "id": "e9daf959"
    },
    {
      "cell_type": "code",
      "metadata": {},
      "source": [
        "#| echo: true\n",
        "\n",
        "# Load the Excel file into a pandas DataFrame.\n",
        "auto_data = pd.read_excel(\"auto.xlsx\")\n",
        "\n",
        "# Set categorical variables.\n",
        "auto_data['origin'] = pd.Categorical(auto_data['origin'])"
      ],
      "id": "501a93f1",
      "execution_count": null,
      "outputs": []
    },
    {
      "cell_type": "markdown",
      "metadata": {},
      "source": [
        "## Training and validation datasets\n",
        "\n",
        "</br>\n",
        "\n",
        "For illustrative purposes, we assume that we want to predict the miles per gallon of a car using the six predictors, $X_1, \\ldots, X_6$.\n",
        "\n",
        "We create the predictor matrix and response column.\n"
      ],
      "id": "ad07a425"
    },
    {
      "cell_type": "code",
      "metadata": {},
      "source": [
        "#| echo: true\n",
        "\n",
        "# Set full matrix of predictors.\n",
        "X_full_c = (auto_data\n",
        "           .filter(['cylinders', 'displacement', \n",
        "           'horsepower', 'weight', 'acceleration', 'origin']))\n",
        "\n",
        "# Set full matrix of responses.\n",
        "Y_full_c = auto_data.filter(['mpg'])"
      ],
      "id": "2abf1b0c",
      "execution_count": null,
      "outputs": []
    },
    {
      "cell_type": "markdown",
      "metadata": {},
      "source": [
        "## \n",
        "\n",
        "</br>\n",
        "\n",
        "We will use a validation dataset with 30% of the observations in `auto_data`. The other 70% will be in the training dataset.\n"
      ],
      "id": "b055db77"
    },
    {
      "cell_type": "code",
      "metadata": {},
      "source": [
        "#| echo: true\n",
        "\n",
        "# Split the dataset into training and validation.\n",
        "X_train_c, X_valid_c, Y_train_c, Y_valid_c = train_test_split(X_full_c, Y_full_c, \n",
        "                                                      test_size = 0.3,\n",
        "                                                      random_state = 59227)"
      ],
      "id": "ab095f27",
      "execution_count": null,
      "outputs": []
    },
    {
      "cell_type": "markdown",
      "metadata": {},
      "source": [
        "## \n",
        "\n",
        "</br>\n",
        "\n",
        "Let's look at the full training dataset.\n"
      ],
      "id": "d99b8a92"
    },
    {
      "cell_type": "code",
      "metadata": {},
      "source": [
        "#| echo: true\n",
        "#| code-fold: false\n",
        "\n",
        "training_auto = pd.concat([X_train_c, Y_train_c], axis = 1)\n",
        "training_auto.head()"
      ],
      "id": "3738b0fd",
      "execution_count": null,
      "outputs": []
    },
    {
      "cell_type": "markdown",
      "metadata": {},
      "source": [
        "## Dealing with missing values\n",
        "\n",
        "</br>\n",
        "\n",
        "The dataset has missing values. In this example, we remove each row with at least one missing value.\n",
        "\n",
        "</br>\n"
      ],
      "id": "5da14bf2"
    },
    {
      "cell_type": "code",
      "metadata": {},
      "source": [
        "#| echo: true\n",
        "\n",
        "# Remove rows with missing values.\n",
        "complete_Auto = training_auto.dropna()"
      ],
      "id": "88f6537f",
      "execution_count": null,
      "outputs": []
    },
    {
      "cell_type": "markdown",
      "metadata": {},
      "source": [
        "## Example 1 (cont.)\n",
        "\n",
        "Categorical predictor: Origin of a car. Three categories: American, European and Japanese.\n",
        "\n",
        "Initially, 3 dummy variables are required:\n",
        "\n",
        "$$d_1 =\n",
        "\\begin{cases}\n",
        "1 \\text{ if observation is from an American car}\\\\\n",
        "0 \\text{ otherwise}\n",
        "\\end{cases}$$ $$d_2 =\n",
        "\\begin{cases}\n",
        "1 \\text{ if observation is from an European car}\\\\\n",
        "0 \\text{ otherwise}\n",
        "\\end{cases}$$ $$d_3 =\n",
        "\\begin{cases}\n",
        "1 \\text{ if observation is from a Japanese car}\\\\\n",
        "0 \\text{ otherwise}\n",
        "\\end{cases}$$\n",
        "\n",
        "## \n",
        "\n",
        "The variable Origin would then be replaced by the three dummy variables\n",
        "\n",
        "| Origin ($X$) | $d_1$    | $d_2$    | $d_3$    |\n",
        "|--------------|----------|----------|----------|\n",
        "| American     | 1        | 0        | 0        |\n",
        "| American     | 1        | 0        | 0        |\n",
        "| European     | 0        | 1        | 0        |\n",
        "| European     | 0        | 1        | 0        |\n",
        "| American     | 1        | 0        | 0        |\n",
        "| Japanese     | 0        | 0        | 1        |\n",
        "| $\\vdots$     | $\\vdots$ | $\\vdots$ | $\\vdots$ |\n",
        "\n",
        "## A drawback\n",
        "\n",
        "</br>\n",
        "\n",
        "::: incremental\n",
        "-   A drawback with the initial dummy variables is that they are [**linearly dependent**]{style=\"color:red;\"}. That is, $d_1 + d_2 + d_3 = 1$.\n",
        "\n",
        "-   Therefore, we can determine the value of $d_1 = 1- d_2 - d_3.$\n",
        "\n",
        "-   Predictive models such as linear regression are sensitive to linear dependencies among predictors.\n",
        "\n",
        "-   **The solution is to drop one of the predictor**, say, $d_1$, from the data.\n",
        ":::\n",
        "\n",
        "## \n",
        "\n",
        "The variable Origin would then be replaced by the three dummy variables.\n",
        "\n",
        "| Origin ($X$) | $d_2$    | $d_3$    |\n",
        "|--------------|----------|----------|\n",
        "| American     | 0        | 0        |\n",
        "| American     | 0        | 0        |\n",
        "| European     | 1        | 0        |\n",
        "| European     | 1        | 0        |\n",
        "| American     | 0        | 0        |\n",
        "| Japanese     | 0        | 1        |\n",
        "| $\\vdots$     | $\\vdots$ | $\\vdots$ |\n",
        "\n",
        "## Dummy variables in Python\n",
        "\n",
        "</br>\n",
        "\n",
        "We can get the dummy variables of a categorical variable using the function `pd.get_dummies()` from **pandas**.\n",
        "\n",
        "The input of the function is the categorical variable.\n",
        "\n",
        "The function has an extra argument called `drop_first` to drop the first dummy variable. It also has the argument `dtype` to show the values as integers.\n"
      ],
      "id": "f844383d"
    },
    {
      "cell_type": "code",
      "metadata": {},
      "source": [
        "#| echo: true\n",
        "\n",
        "dummy_data = pd.get_dummies(complete_Auto['origin'], drop_first = True, \n",
        "                            dtype = 'int')"
      ],
      "id": "f1ebedca",
      "execution_count": null,
      "outputs": []
    },
    {
      "cell_type": "markdown",
      "metadata": {},
      "source": [
        "## \n",
        "\n",
        "</br></br>\n"
      ],
      "id": "be5080a1"
    },
    {
      "cell_type": "code",
      "metadata": {},
      "source": [
        "#| echo: true\n",
        "\n",
        "dummy_data.head()"
      ],
      "id": "e4b94e79",
      "execution_count": null,
      "outputs": []
    },
    {
      "cell_type": "markdown",
      "metadata": {},
      "source": [
        "## \n",
        "\n",
        "Now, to add the dummy variables to the dataset, we use the function `concat()` from **pandas**.\n"
      ],
      "id": "42f6968e"
    },
    {
      "cell_type": "code",
      "metadata": {},
      "source": [
        "#| echo: true\n",
        "\n",
        "augmented_auto = pd.concat([complete_Auto, dummy_data], axis = 1)\n",
        "augmented_auto.head()"
      ],
      "id": "dfd21bfb",
      "execution_count": null,
      "outputs": []
    },
    {
      "cell_type": "markdown",
      "metadata": {},
      "source": [
        "## Transforming numerical predictors\n",
        "\n",
        "</br>\n",
        "\n",
        "A common problem with a predictor is that it may have a *skewed distribution*. That is, a distribution that accumulates many observations in smaller or larger values of the predictor.\n",
        "\n",
        "</br>\n",
        "\n",
        "For example, consider the distribution of the predictor `DIS` (weighted mean of distances to five Boston employment centers) in the \"BostonHousing.xlsx\" dataset.\n",
        "\n",
        "## Example 2\n",
        "\n",
        "</br>\n",
        "\n",
        "We revisit the \"BostonHousing.xlsx\" dataset that contains data of houses in Boston, Massachusetts.\n",
        "\n",
        "</br>\n",
        "\n",
        "The **goal** is to predict the median house price in new tracts based on information such as crime rate, pollution, and number of rooms.\n",
        "\n",
        "</br>\n",
        "\n",
        "The [response]{style=\"color:darkred;\"} is the median value of owner-occupied homes in \\$1000s, contained in the column `MEDV`.\n",
        "\n",
        "## The predictors\n",
        "\n",
        "::: {style=\"font-size: 70%;\"}\n",
        "-   `CRIM`: per capita crime rate by town.\n",
        "-   `ZN`: proportion of residential land zoned for lots over 25,000 sq.ft.\n",
        "-   `INDUS`: proportion of non-retail business acres per town.\n",
        "-   `CHAS`: Charles River ('Yes' if tract bounds river; 'No' otherwise).\n",
        "-   `NOX`: nitrogen oxides concentration (parts per 10 million).\n",
        "-   `RM`: average number of rooms per dwelling.\n",
        "-   `AGE`: proportion of owner-occupied units built prior to 1940.\n",
        "-   `DIS`: weighted mean of distances to five Boston employment centers\n",
        "-   `RAD`: index of accessibility to radial highways ('Low', 'Medium', 'High').\n",
        "-   `TAX`: full-value property-tax rate per \\$10,000.\n",
        "-   `PTRATIO`: pupil-teacher ratio by town.\n",
        "-   `LSTAT`: lower status of the population (percent).\n",
        ":::\n",
        "\n",
        "## Read the dataset\n",
        "\n",
        "We read the dataset.\n"
      ],
      "id": "1e0e89bb"
    },
    {
      "cell_type": "code",
      "metadata": {},
      "source": [
        "#| echo: true\n",
        "#| output: true\n",
        "\n",
        "Boston_data = pd.read_excel('BostonHousing.xlsx')"
      ],
      "id": "cbfa2ae0",
      "execution_count": null,
      "outputs": []
    },
    {
      "cell_type": "markdown",
      "metadata": {},
      "source": [
        "</br>\n",
        "\n",
        "The variables `CHAS` and `RAD` are categorical variables. Therefore, we turn tthem into categorical using `.Categorical()` function from **pandas**.\n"
      ],
      "id": "9de16e13"
    },
    {
      "cell_type": "code",
      "metadata": {},
      "source": [
        "#| echo: true\n",
        "#| output: true\n",
        "\n",
        "Boston_data['CHAS'] = pd.Categorical(Boston_data['CHAS'])\n",
        "Boston_data['RAD'] = pd.Categorical(Boston_data['RAD'], \n",
        "                                      categories=[\"Low\", \"Medium\", \"High\"], \n",
        "                                      ordered=True)"
      ],
      "id": "73b599e1",
      "execution_count": null,
      "outputs": []
    },
    {
      "cell_type": "markdown",
      "metadata": {},
      "source": [
        "## \n",
        "\n",
        "</br>\n",
        "\n",
        "Before we continue, we generate a training dataset with 80% of the observations. To this end, let's create the predictor matrix and response column.\n"
      ],
      "id": "01d9b7d1"
    },
    {
      "cell_type": "code",
      "metadata": {},
      "source": [
        "#| echo: true\n",
        "#| output: true\n",
        "\n",
        "# Set full matrix of predictors.\n",
        "X_full_b = Boston_data.drop(columns = ['MEDV']) \n",
        "\n",
        "# Set full matrix of responses.\n",
        "Y_full_b = Boston_data.filter(['MEDV'])\n",
        "\n",
        "# Split the dataset into training and validation.\n",
        "X_train_b, X_valid_b, Y_train_b, Y_valid_b = train_test_split(X_full_b, \n",
        "                                                      Y_full_b, \n",
        "                                                      test_size = 0.2,\n",
        "                                                      random_state = 59227)"
      ],
      "id": "434bb98f",
      "execution_count": null,
      "outputs": []
    },
    {
      "cell_type": "markdown",
      "metadata": {},
      "source": [
        "## \n",
        "\n",
        "</br>\n",
        "\n",
        "The new training dataset we will work with is:\n"
      ],
      "id": "d4cbaba4"
    },
    {
      "cell_type": "code",
      "metadata": {},
      "source": [
        "#| echo: true\n",
        "#| output: true\n",
        "\n",
        "Boston_training = pd.concat([X_train_b, Y_train_b], axis = 1)\n",
        "Boston_training.head()"
      ],
      "id": "86cafce8",
      "execution_count": null,
      "outputs": []
    },
    {
      "cell_type": "markdown",
      "metadata": {},
      "source": [
        "## Distribution of `DIS`\n",
        "\n",
        "A right-skewed distribution is characterized by the right tail (or the side with higher values) being longer and more extended than the left tail.\n"
      ],
      "id": "f00c1466"
    },
    {
      "cell_type": "code",
      "metadata": {},
      "source": [
        "#| echo: true\n",
        "#| code-fold: true\n",
        "#| fig-align: center\n",
        "\n",
        "plt.figure(figsize=(8,3.5)) # Create space for figure.\n",
        "sns.histplot(data = Boston_training, x = 'DIS') # Create the histogram.\n",
        "plt.title(\"Histogram of DIS\") # Plot title.\n",
        "plt.xlabel(\"DIS\") # X label\n",
        "plt.show() # Display the plot"
      ],
      "id": "c40771cc",
      "execution_count": null,
      "outputs": []
    },
    {
      "cell_type": "markdown",
      "metadata": {},
      "source": [
        "## Problems with strong skewness\n",
        "\n",
        "</br>\n",
        "\n",
        "Strong (right or left) skewness in a predictor can:\n",
        "\n",
        "-   Distort the relationship with the response.\n",
        "-   Violate the assumptions of the linear regression model (e.g., linearity, homoscedasticity).\n",
        "-   Lead to influential outliers or poor model fit.\n",
        "\n",
        "To correct the skewness of a predictor's distribution, we can transform the predictor using the [**Box-Cox transformation**]{style=\"color:orange;\"}\n",
        "\n",
        "## Box-Cox Transformation\n",
        "\n",
        "</br>\n",
        "\n",
        "::: incremental\n",
        "-   The Box-Cox transformation uses a family of power transformations on a predictor $X$ such that $X' = X^{\\lambda}$, where $\\lambda$ is a parameter to be determined using the data. When $\\lambda = 0,$ this means $X' = \\ln(X)$, where $\\ln(\\cdot)$ is the natural logarithm.\n",
        "\n",
        "-   The Box-Cox transformation is the element of this family that results in a transformed variable that follows a normal distribution (approximately).\n",
        "\n",
        "-   [The variable $X$ must be strictly positive!]{style=\"color:blue;\"}\n",
        ":::\n",
        "\n",
        "## In Python\n",
        "\n",
        "We apply the Box-Cox transformation using the `PowerTransformer` and `fit_transform` functions of the **scikit-learn** library.\n"
      ],
      "id": "236923cb"
    },
    {
      "cell_type": "code",
      "metadata": {},
      "source": [
        "#| echo: true\n",
        "\n",
        "pt = PowerTransformer(method='box-cox', standardize = False)\n",
        "DIS_transform = pt.fit_transform(Boston_training[['DIS']])"
      ],
      "id": "4b93f725",
      "execution_count": null,
      "outputs": []
    },
    {
      "cell_type": "markdown",
      "metadata": {},
      "source": [
        "</br>\n",
        "\n",
        "In the `PowerTransformer`, the input `standardize` specifies if we wish to standardize the resulting transformed predictor to have a mean of zero and a standard deviation of one. We do not standardize the predictor yet.\n",
        "\n",
        "## \n",
        "\n",
        "The result from the function is a **numpy** array. However, since we are working with **pandas** dataframes, we must transform the output to this format using the following code.\n"
      ],
      "id": "177eb54c"
    },
    {
      "cell_type": "code",
      "metadata": {},
      "source": [
        "#| echo: true\n",
        "\n",
        "DIS_transform_df = pd.DataFrame(DIS_transform, columns=['DIS_boxcox'])\n",
        "DIS_transform_df.head()"
      ],
      "id": "4efddfd4",
      "execution_count": null,
      "outputs": []
    },
    {
      "cell_type": "markdown",
      "metadata": {},
      "source": [
        "## \n",
        "\n",
        "</br>\n",
        "\n",
        "::::: columns\n",
        "::: {.column width=\"50%\"}\n",
        "Original predictor\n"
      ],
      "id": "94d40ea4"
    },
    {
      "cell_type": "code",
      "metadata": {},
      "source": [
        "#| echo: true\n",
        "#| code-fold: true\n",
        "#| fig-align: center\n",
        "\n",
        "plt.figure(figsize=(7,4)) # Create space for figure.\n",
        "sns.histplot(data = Boston_training, x = 'DIS') # Create the histogram.\n",
        "plt.title(\"Histogram of DIS\") # Plot title.\n",
        "plt.xlabel(\"DIS\") # X label\n",
        "plt.show() # Display the plot"
      ],
      "id": "26326d2d",
      "execution_count": null,
      "outputs": []
    },
    {
      "cell_type": "markdown",
      "metadata": {},
      "source": [
        ":::\n",
        "\n",
        "::: {.column width=\"50%\"}\n",
        "Box-Cox transformation\n"
      ],
      "id": "cfdf9a67"
    },
    {
      "cell_type": "code",
      "metadata": {},
      "source": [
        "#| echo: true\n",
        "#| code-fold: true\n",
        "#| fig-align: center\n",
        "\n",
        "plt.figure(figsize=(7,4)) # Create space for figure.\n",
        "sns.histplot(data = DIS_transform_df, x = 'DIS_boxcox') # Create the histogram.\n",
        "plt.title(\"Histogram of transformed DIS\") # Plot title.\n",
        "plt.xlabel(\"DIS (Box-Cox transformation\") # X label\n",
        "plt.show() # Display the plot"
      ],
      "id": "1e49c520",
      "execution_count": null,
      "outputs": []
    },
    {
      "cell_type": "markdown",
      "metadata": {},
      "source": [
        ":::\n",
        ":::::\n",
        "\n",
        "## Value of $\\lambda$\n",
        "\n",
        "</br>\n",
        "\n",
        "Recall that the Box-Cox transformation finds the best value of $\\lambda$ that makes the transformed predictor $X^\\lambda$ to follow a normal distribution.\n",
        "\n",
        "We can obtain the value of $\\lambda$ actually used in the transformation using the following code.\n"
      ],
      "id": "77b259f1"
    },
    {
      "cell_type": "code",
      "metadata": {},
      "source": [
        "#| echo: true\n",
        "\n",
        "# Retrieve the lambda value\n",
        "print(pt.lambdas_)"
      ],
      "id": "2a260e93",
      "execution_count": null,
      "outputs": []
    },
    {
      "cell_type": "markdown",
      "metadata": {},
      "source": [
        "This means that the transformed predictor is $X' = X^{-0.123}$.\n",
        "\n",
        "## Discussion\n",
        "\n",
        "</br></br>\n",
        "\n",
        "The Box-Cox transformation can:\n",
        "\n",
        "-   Make the distribution of a predictor more symmetric.\n",
        "\n",
        "-   Help to linearize the relationship with the response.\n",
        "\n",
        "After transformation, the predictor $X'$ must be used instead of the original predictor $X$.\n",
        "\n",
        "# Reducing the number of predictors\n",
        "\n",
        "## Removing predictors\n",
        "\n",
        "</br>\n",
        "\n",
        "There are potential advantages to removing predictors prior to modeling:\n",
        "\n",
        "::: incremental\n",
        "-   Fewer predictors means decreased computational time and complexity.\n",
        "\n",
        "-   If two predictors are highly-correlated, they are measuring the same underlying information. So, removing one should not compromise the performance of the model.\n",
        ":::\n",
        "\n",
        ". . .\n",
        "\n",
        "Here, we will see two techniques to remove predictors.\n",
        "\n",
        "## Near-Zero variance predictors\n",
        "\n",
        "</br>\n",
        "\n",
        "A **near-zero variance predictor variable** is one that has only a handful of unique values that occur with very low frequencies.\n",
        "\n",
        "</br>\n",
        "\n",
        ". . .\n",
        "\n",
        "If the predictor has a single unique value, then it is called a **zero-variance predictor variable**.\n",
        "\n",
        "</br>\n",
        "\n",
        ". . .\n",
        "\n",
        "Since the values of this predictor variable do not vary or change at all, this predictor does not provide any information to the model and must be discarded.\n",
        "\n",
        "## Example 3\n",
        "\n",
        "</br>\n",
        "\n",
        "We consider a data set related to Glass identification. The data has 214 glass samples labeled as one of seven glass categories. There are nine predictors including the refractive index (RI) and percentages of eight elements: Na, Mg, Al, Si, K, Ca, Ba, and Fe.\n",
        "\n",
        "Let's read the data set.\n"
      ],
      "id": "c90a8fb5"
    },
    {
      "cell_type": "code",
      "metadata": {},
      "source": [
        "#| echo: true\n",
        "#| output: true\n",
        "\n",
        "# Load Excel file (make sure the file is in your Colab)\n",
        "glass_data = pd.read_excel('glass.xlsx')"
      ],
      "id": "95445dca",
      "execution_count": null,
      "outputs": []
    },
    {
      "cell_type": "markdown",
      "metadata": {},
      "source": [
        "## Training and validation datasets\n",
        "\n",
        "Let's create a training and validation dataset. To this end, we will consider the variable `Type` as the response and the other numeric variables as the predictors. We will use 80% of the observations for the training dataset. The other 20% of the observations will go to the validation dataset.\n"
      ],
      "id": "8d7192f4"
    },
    {
      "cell_type": "code",
      "metadata": {},
      "source": [
        "#| echo: true\n",
        "#| output: true\n",
        "\n",
        "# Set full matrix of predictors.\n",
        "X_full_g = glass_data.drop(columns = ['Type']) \n",
        "\n",
        "# Set full matrix of responses.\n",
        "Y_full_g = glass_data.filter(['Type'])\n",
        "\n",
        "# Split the dataset into training and validation.\n",
        "X_train_g, X_valid_g, Y_train_g, Y_valid_g = train_test_split(X_full_g, \n",
        "                                                      Y_full_g, \n",
        "                                                      test_size = 0.2,\n",
        "                                                      random_state = 59227)"
      ],
      "id": "35d66803",
      "execution_count": null,
      "outputs": []
    },
    {
      "cell_type": "markdown",
      "metadata": {},
      "source": [
        "## In Python\n",
        "\n",
        "We use the function `VarianceThreshold()` to set the threshold for determining a *low* sample variance. We also use other functions such as `.fit()` and `.get_support()`.\n"
      ],
      "id": "e119a398"
    },
    {
      "cell_type": "code",
      "metadata": {},
      "source": [
        "#| echo: true\n",
        "#| output: true\n",
        "\n",
        "# Set threshold\n",
        "selector = VarianceThreshold(threshold=0.01)\n",
        "\n",
        "# Apply threshold.\n",
        "selector.fit(X_train_g)\n",
        "\n",
        "# Identify predictors with low variance.\n",
        "low_variance_cols = X_train_g.columns[~selector.get_support()]\n",
        "\n",
        "# Print the list of predictors.\n",
        "print(f\"Low variance columns: {low_variance_cols}\")"
      ],
      "id": "68e486d5",
      "execution_count": null,
      "outputs": []
    },
    {
      "cell_type": "markdown",
      "metadata": {},
      "source": [
        "## \n",
        "\n",
        "</br></br>\n",
        "\n",
        "After identifying predictors with low variability, we remove them from the problem because they do not add much to the problem. To this end, we use the command below.\n",
        "\n",
        "</br>\n"
      ],
      "id": "e55dfacf"
    },
    {
      "cell_type": "code",
      "metadata": {},
      "source": [
        "#| echo: true\n",
        "#| output: true\n",
        "\n",
        "# Removing problematic predictors\n",
        "sb_Xtrain_glass = X_train_g.drop(columns=low_variance_cols)"
      ],
      "id": "743b0e06",
      "execution_count": null,
      "outputs": []
    },
    {
      "cell_type": "markdown",
      "metadata": {},
      "source": [
        "## Between-predictor correlation\n",
        "\n",
        "</br>\n",
        "\n",
        "[**Collinearity**]{style=\"color:purple;\"} is the technical term for the situation where two predictors have a substantial correlation with each other.\n",
        "\n",
        "If two or more predictors are highly correlated (either negatively or positively), then methods such as the linear regression model will not work!\n",
        "\n",
        "To visualize the severity of collinearity between predictors, we calculate and visualize the *correlation matrix*.\n",
        "\n",
        "## Example 1 (cont.)\n",
        "\n",
        "</br>\n",
        "\n",
        "We concentrate on the five numerical predictors in the `complete_Auto` dataset.\n"
      ],
      "id": "f3e49f58"
    },
    {
      "cell_type": "code",
      "metadata": {},
      "source": [
        "#| echo: true\n",
        "\n",
        "# Select specific variables.\n",
        "complete_sbAuto = complete_Auto[['cylinders', 'displacement', \n",
        "                                 'horsepower', 'weight', \n",
        "                                 'acceleration']]"
      ],
      "id": "e8458eab",
      "execution_count": null,
      "outputs": []
    },
    {
      "cell_type": "markdown",
      "metadata": {},
      "source": [
        "## Correlation matrix\n",
        "\n",
        "</br>\n",
        "\n",
        "In Python, we calculate the correlation matrix using the command below.\n"
      ],
      "id": "4a573ce5"
    },
    {
      "cell_type": "code",
      "metadata": {},
      "source": [
        "#| echo: true\n",
        "#| output: true\n",
        "\n",
        "correlation_matrix = complete_sbAuto.corr()\n",
        "print(correlation_matrix)"
      ],
      "id": "ac1deae5",
      "execution_count": null,
      "outputs": []
    },
    {
      "cell_type": "markdown",
      "metadata": {},
      "source": [
        "## \n",
        "\n",
        "Next, we plot the correlation matrix using the function `heatmap()` from **seaborn**. The argument `annot` shows the actual value of the pair-wise correlations, and `cmap` shows a nice color theme.\n"
      ],
      "id": "2225d3e9"
    },
    {
      "cell_type": "code",
      "metadata": {},
      "source": [
        "#| echo: true\n",
        "#| output: true\n",
        "#| fig-align: center\n",
        "\n",
        "plt.figure(figsize=(3,3))\n",
        "sns.heatmap(correlation_matrix, cmap='coolwarm', annot = True)"
      ],
      "id": "7b222191",
      "execution_count": null,
      "outputs": []
    },
    {
      "cell_type": "markdown",
      "metadata": {},
      "source": [
        "## \n",
        "\n",
        "</br>\n",
        "\n",
        "The predictors cylinders and displacement are highly correlated. In fact, their correlation is 0.95.\n"
      ],
      "id": "7abe9271"
    },
    {
      "cell_type": "code",
      "metadata": {},
      "source": [
        "#| echo: false\n",
        "#| output: true\n",
        "#| fig-align: center\n",
        "\n",
        "plt.figure(figsize=(7,5))\n",
        "sns.scatterplot(data = complete_sbAuto, x = 'cylinders', y = 'displacement')\n",
        "plt.xlabel('cylinders', fontsize = 14)\n",
        "plt.ylabel('displacement', fontsize = 14)\n",
        "plt.show()"
      ],
      "id": "3875b311",
      "execution_count": null,
      "outputs": []
    },
    {
      "cell_type": "markdown",
      "metadata": {},
      "source": [
        "## In practice\n",
        "\n",
        "</br>\n",
        "\n",
        "We deal with collinearity by removing the minimum number of predictors to ensure that all pairwise correlations are below a certain threshold, say, 0.75.\n",
        "\n",
        "We can identify the variables that are highly correlated using quite complex code. However, here we will do it manually using the correlation map.\n"
      ],
      "id": "614d9535"
    },
    {
      "cell_type": "code",
      "metadata": {},
      "source": [
        "#| echo: true\n",
        "#| output: true\n",
        "\n",
        "# Dataset without highly correlated predictors.\n",
        "reduced_auto = complete_sbAuto[ ['weight', 'acceleration']]"
      ],
      "id": "ab16bbbd",
      "execution_count": null,
      "outputs": []
    },
    {
      "cell_type": "markdown",
      "metadata": {},
      "source": [
        "# Standarization\n",
        "\n",
        "## Predictors with different units\n",
        "\n",
        "Many good predictive models have issues with [**numeric predictors**]{style=\"color:blue;\"} with different units:\n",
        "\n",
        "1.  Methods such as K-nearest neighbors are based on the distance between observations. If the predictors are on different units or scales, then some predictors will have a larger weight for computing the distance.\n",
        "\n",
        "2.  Other methods such as LASSO use the variances of the predictors in their calculations. Predictors with different scales will have different variances and so, those with a higher variance will play a bigger role in the calculations.\n",
        "\n",
        "## \n",
        "\n",
        "</br></br></br></br>\n",
        "\n",
        "::: {style=\"font-size: 150%;\"}\n",
        "[***In a nutshell, some predictors will have a higher impact in the model due to its unit and not its information provided to it.***]{style=\"color:purple;\"}\n",
        ":::\n",
        "\n",
        "## Standarization\n",
        "\n",
        "</br>\n",
        "\n",
        "Standardization refers to *centering* and *scaling* each numeric predictor individually. It puts every predictor on the same scale.\n",
        "\n",
        "To **center** a predictor variable, the average predictor value is subtracted from all the values.\n",
        "\n",
        "Therefore, the centered predictor has a zero mean (that is, its average value is zero).\n",
        "\n",
        "## \n",
        "\n",
        "</br>\n",
        "\n",
        "To **scale** a predictor, each of its value is divided by its standard deviation.\n",
        "\n",
        "Scaling the data coerce the values to have a common standard deviation of one.\n",
        "\n",
        "In mathematical terms, we standardize a predictor as:\n",
        "\n",
        "$${\\color{blue} \\tilde{X}_{i}} = \\frac{{ X_{i} - \\bar{X}}}{ \\sqrt{\\frac{1}{n -1} \\sum_{i=1}^{n} (X_{i} - \\bar{X})^2}},$$\n",
        "\n",
        "with $\\bar{X} = \\sum_{i=1}^n \\frac{x_i}{n}$.\n",
        "\n",
        "## Example 1 (cont.)\n",
        "\n",
        "We use on the five numerical predictors in the `complete_sbAuto` dataset.\n"
      ],
      "id": "78fbdb89"
    },
    {
      "cell_type": "code",
      "metadata": {},
      "source": [
        "#| echo: true\n",
        "\n",
        "complete_sbAuto.head()"
      ],
      "id": "c4a64bdf",
      "execution_count": null,
      "outputs": []
    },
    {
      "cell_type": "markdown",
      "metadata": {},
      "source": [
        "## Two predictors in original units\n",
        "\n",
        "Consider the `complete_sbAuto` dataset created previously. Consider two points in the plot: $(175, 5140)$ and $(69, 1613)$.\n",
        "\n",
        "::::: columns\n",
        "::: {.column width=\"50%\"}"
      ],
      "id": "e3123b92"
    },
    {
      "cell_type": "code",
      "metadata": {},
      "source": [
        "#| echo: false\n",
        "#| output: true\n",
        "#| fig-align: center\n",
        "\n",
        "plt.figure(figsize=(5,5))\n",
        "sns.scatterplot(data = complete_sbAuto, x = 'horsepower', y = 'weight')\n",
        "plt.scatter(x = 175, y = 5140, color = 'red')\n",
        "plt.scatter(x = 69, y = 1613, color = 'red')\n",
        "plt.xlabel('Horsepower', fontsize=14)\n",
        "plt.ylabel('Weight', fontsize=14)\n",
        "plt.show()"
      ],
      "id": "79569675",
      "execution_count": null,
      "outputs": []
    },
    {
      "cell_type": "markdown",
      "metadata": {},
      "source": [
        ":::\n",
        "\n",
        "::: {.column width=\"50%\"}\n",
        "</br>\n",
        "\n",
        "The distance between these points is $\\sqrt{(69 - 175)^2 + (1613-5140)^2}$ $= \\sqrt{11236 + 12439729}$ $= 3528.592$.\n",
        ":::\n",
        ":::::\n",
        "\n",
        "## Standarization in Python\n",
        "\n",
        "</br>\n",
        "\n",
        "To standardize **numerical** predictors, we use the function `StandardScaler()`. Moreover, we apply the function to the variables using the function `fit_transform()`.\n",
        "\n",
        "</br>\n"
      ],
      "id": "0a13ac53"
    },
    {
      "cell_type": "code",
      "metadata": {},
      "source": [
        "#| echo: true\n",
        "\n",
        "scaler = StandardScaler()\n",
        "Xs = scaler.fit_transform(complete_sbAuto)"
      ],
      "id": "9e6debb7",
      "execution_count": null,
      "outputs": []
    },
    {
      "cell_type": "markdown",
      "metadata": {},
      "source": [
        "## \n",
        "\n",
        "Unfortunately, the resulting object is not a pandas data frame. We then convert this object to this format. </br>\n"
      ],
      "id": "9afb0373"
    },
    {
      "cell_type": "code",
      "metadata": {},
      "source": [
        "#| echo: true\n",
        "\n",
        "scaled_df = pd.DataFrame(Xs, columns = complete_sbAuto.columns)\n",
        "scaled_df.head()"
      ],
      "id": "9a80d201",
      "execution_count": null,
      "outputs": []
    },
    {
      "cell_type": "markdown",
      "metadata": {},
      "source": [
        "## Two predictors in standardized units\n",
        "\n",
        "In the new scale, the two points are now: $(1.82, 2.53)$ and $(-0.91, -1.60)$.\n",
        "\n",
        "::::: columns\n",
        "::: {.column width=\"50%\"}"
      ],
      "id": "4207a1ce"
    },
    {
      "cell_type": "code",
      "metadata": {},
      "source": [
        "#| echo: false\n",
        "#| output: true\n",
        "#| fig-align: center\n",
        "\n",
        "plt.figure(figsize=(5,5))\n",
        "sns.scatterplot(data = scaled_df, x = 'horsepower', y = 'weight')\n",
        "plt.scatter(x = 1.83, y = 2.54, color = 'red')\n",
        "plt.scatter(x = -0.90, y = -1.60, color = 'red')\n",
        "plt.xlabel('Standardized horsepower', fontsize=14)\n",
        "plt.ylabel('Standardized weight', fontsize=14)\n",
        "plt.show()"
      ],
      "id": "743c8a6e",
      "execution_count": null,
      "outputs": []
    },
    {
      "cell_type": "markdown",
      "metadata": {},
      "source": [
        ":::\n",
        "\n",
        "::: {.column width=\"50%\"}\n",
        "</br>\n",
        "\n",
        "The distance between these points is $\\sqrt{(-0.91 - 1.82)^2 + (-1.60-2.53)^2}$ $= \\sqrt{7.45 + 17.05} = 4.95$.\n",
        ":::\n",
        ":::::\n",
        "\n",
        "## Discussion\n",
        "\n",
        "::: incremental\n",
        "-   Standardized predictors are generally used to improve the numerical stability of some calculations.\n",
        "\n",
        "-   It is generally recommended to always standardize numeric predictors. Perhaps the only exception would be if we consider a linear regression model.\n",
        "\n",
        "-   A drawback of these transformations is the [***loss of interpretability***]{style=\"color:pink;\"} since the data are no longer in the original units.\n",
        "\n",
        "-   Standardizing the predictors does not affect their correlation.\n",
        ":::\n",
        "\n",
        "# [Return to main page](https://alanrvazquez.github.io/TEC-IN1002B-Website/)"
      ],
      "id": "f8bf0afd"
    }
  ],
  "metadata": {
    "kernelspec": {
      "display_name": "Python 3",
      "language": "python",
      "name": "python3"
    }
  },
  "nbformat": 4,
  "nbformat_minor": 5
}