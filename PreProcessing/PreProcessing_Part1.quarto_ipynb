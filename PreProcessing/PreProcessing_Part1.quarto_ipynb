{
  "cells": [
    {
      "cell_type": "markdown",
      "metadata": {},
      "source": [
        "---\n",
        "title: \"Data preprocessing: Part I\"\n",
        "subtitle: \"IN1002B: Introduction to Data Science Projects\"\n",
        "author: \n",
        "  - name: Alan R. Vazquez\n",
        "    affiliations:\n",
        "      - name: Department of Industrial Engineering\n",
        "format: \n",
        "  revealjs:\n",
        "    chalkboard: false\n",
        "    multiplex: true\n",
        "    footer: \"Tecnologico de Monterrey\"\n",
        "    logo: IN1002b_logo.png\n",
        "    css: style.css\n",
        "    slide-number: True\n",
        "    html-math-method: mathjax\n",
        "editor: visual\n",
        "jupyter: python3\n",
        "---\n",
        "\n",
        "\n",
        "## Agenda\n",
        "\n",
        "</br>\n",
        "\n",
        "1.  Introduction\n",
        "2.  Training, validation, and test datasets\n",
        "3.  Dealing with missing values\n",
        "\n",
        "# Introduction\n",
        "\n",
        "## Data preprocessing\n",
        "\n",
        "[**Data pre-processing**]{style=\"color:lightblue;\"} techniques generally refer to the addition, deletion, or transformation of data.\n",
        "\n",
        "</br>\n",
        "\n",
        "> It can make or break a model’s predictive ability.\n",
        "\n",
        "</br>\n",
        "\n",
        "For example, linear regression models (to be discussed later) are relatively insensitive to the characteristics of the predictor data, but advanced methods like K-nearest neighbors, principal component regression, and LASSO are not.\n",
        "\n",
        "## \n",
        "\n",
        "</br>\n",
        "\n",
        "We will review some common strategies for processing predictors from the data, without considering how they might be related to the response.\n",
        "\n",
        ". . .\n",
        "\n",
        "In particular, we will review:\n",
        "\n",
        "::: incremental\n",
        "-   Dealing with missing values.\n",
        "-   Transforming predictors.\n",
        "-   Reducing the number of predictors.\n",
        "-   Standardizing the units of the predictors.\n",
        ":::\n",
        "\n",
        "## scikit-learn library\n",
        "\n",
        "-   **scikit-learn** is a robust and popular library for machine learning in Python\n",
        "-   It provides simple, efficient tools for data mining and data analysis\n",
        "-   It is built on top of libraries such as **NumPy**, **SciPy**, and **Matplotlib**\n",
        "-   <https://scikit-learn.org/stable/>\n",
        "\n",
        "![](images/scikitlearn.png){fig-align=\"center\"}\n",
        "\n",
        "## \n",
        "\n",
        "</br>\n",
        "\n",
        "Let's import **scikit-learn** into Python together with the other relevant libraries.\n"
      ],
      "id": "0b7f4113"
    },
    {
      "cell_type": "code",
      "metadata": {},
      "source": [
        "#| echo: true\n",
        "\n",
        "import pandas as pd\n",
        "import matplotlib.pyplot as plt\n",
        "import seaborn as sns\n",
        "from sklearn.impute import SimpleImputer, KNNImputer\n",
        "from sklearn.feature_selection import VarianceThreshold\n",
        "from sklearn.model_selection import train_test_split\n",
        "from sklearn.preprocessing import power_transform, StandardScaler "
      ],
      "id": "dda09a0c",
      "execution_count": null,
      "outputs": []
    },
    {
      "cell_type": "markdown",
      "metadata": {},
      "source": [
        "We will not use all the functions from the **scikit-learn** library. Instead, we will use specific functions from the sub-libraries **preprocessing**, **feature_selection**, **model_selection** and **impute**.\n",
        "\n",
        "# Training, validation, and test datasets\n",
        "\n",
        "## Recall that ...\n",
        "\n",
        "</br></br>\n",
        "\n",
        "In data science, we assume that\n",
        "\n",
        "$$Y = f(\\boldsymbol{X}) + \\epsilon$$\n",
        "\n",
        "where $f(\\boldsymbol{X})$ represents the true relationship between $\\boldsymbol{X} = (X_1, X_2, \\ldots, X_p)$ and $Y$.\n",
        "\n",
        "-   $f(\\boldsymbol{X})$ is unknown and very complex!\n",
        "\n",
        "## Two datasets\n",
        "\n",
        "</br></br>\n",
        "\n",
        "The application of data science models needs two data sets:\n",
        "\n",
        "::: incremental\n",
        "-   [**Training data**]{style=\"color:blue;\"} is data that we use to train or construct the estimated function $\\hat{f}(\\boldsymbol{X})$.\n",
        "\n",
        "-   [**Test data**]{style=\"color:green;\"} is data that we use to evaluate the predictive performance of $\\hat{f}(\\boldsymbol{X})$ only.\n",
        ":::\n",
        "\n",
        "## \n",
        "\n",
        "::::: columns\n",
        "::: {.column width=\"30%\"}\n",
        "![](images/training.png){width=\"256\"}\n",
        ":::\n",
        "\n",
        "::: {.column width=\"70%\"}\n",
        "</br>\n",
        "\n",
        "A random sample of $n$ observations.\n",
        "\n",
        "Use it to **construct** $\\hat{f}(\\boldsymbol{X})$.\n",
        ":::\n",
        ":::::\n",
        "\n",
        "::::: columns\n",
        "::: {.column width=\"30%\"}\n",
        "![](images/test.png){width=\"262\"}\n",
        ":::\n",
        "\n",
        "::: {.column width=\"70%\"}\n",
        "Another random sample of $n_t$ observations, which is independent of the training data.\n",
        "\n",
        "Use it to **evaluate** $\\hat{f}(\\boldsymbol{X})$.\n",
        ":::\n",
        ":::::\n",
        "\n",
        "## Validation Dataset\n",
        "\n",
        "In many practical situations, a test dataset is not available. To overcome this issue, we use a [**validation dataset**]{style=\"color:orange;\"}.\n",
        "\n",
        "![](images/validation.png){fig-align=\"center\" width=\"645\"}\n",
        "\n",
        ". . .\n",
        "\n",
        "**Idea**: Apply model to your [**validation dataset**]{style=\"color:orange;\"} to mimic what will happen when you apply it to test dataset.\n",
        "\n",
        "## Example 1\n",
        "\n",
        "</br>\n",
        "\n",
        "The \"BostonHousing.xlsx\" contains data collected by the US Bureau of the Census concerning housing in the area of Boston, Massachusetts. The dataset includes data on 506 census housing tracts in the Boston area in 1970s.\n",
        "\n",
        "The **goal** is to predict the median house price in new tracts based on information such as crime rate, pollution, and number of rooms.\n",
        "\n",
        "The [response]{style=\"color:darkred;\"} is the median value of owner-occupied homes in \\$1000s, contained in the column `MEDV`.\n",
        "\n",
        "## The predictors\n",
        "\n",
        "::: {style=\"font-size: 70%;\"}\n",
        "-   `CRIM`: per capita crime rate by town.\n",
        "-   `ZN`: proportion of residential land zoned for lots over 25,000 sq.ft.\n",
        "-   `INDUS`: proportion of non-retail business acres per town.\n",
        "-   `CHAS`: Charles River dummy variable (= 1 if tract bounds river; 0 otherwise).\n",
        "-   `NOX`: nitrogen oxides concentration (parts per 10 million).\n",
        "-   `RM`: average number of rooms per dwelling.\n",
        "-   `AGE`: proportion of owner-occupied units built prior to 1940.\n",
        "-   `DIS`: weighted mean of distances to five Boston employment centers\n",
        "-   `RAD`: index of accessibility to radial highways.\n",
        "-   `TAX`: full-value property-tax rate per \\$10,000.\n",
        "-   `PTRATIO`: pupil-teacher ratio by town.\n",
        "-   `LSTAT`: lower status of the population (percent).\n",
        ":::\n",
        "\n",
        "## Read the dataset\n",
        "\n",
        "We read the dataset and set the variable `CHAS` as categorical.\n"
      ],
      "id": "a123cedd"
    },
    {
      "cell_type": "code",
      "metadata": {},
      "source": [
        "#| echo: true\n",
        "#| output: true\n",
        "\n",
        "Boston_data = pd.read_excel('BostonHousing.xlsx')\n",
        "\n",
        "Boston_data['CHAS'] = pd.Categorical(Boston_data['CHAS'])\n",
        "\n",
        "Boston_data.head(4)"
      ],
      "id": "2222b8c9",
      "execution_count": null,
      "outputs": []
    },
    {
      "cell_type": "markdown",
      "metadata": {},
      "source": [
        "## How do we generate validation data?\n",
        "\n",
        "</br>\n",
        "\n",
        "We split the current dataset into a training and a validation dataset. To this end, we use the function `train_test_split()` from **scikit-learn**.\n",
        "\n",
        "The function has three main inputs:\n",
        "\n",
        "- A pandas data frame with the predictor columns only.\n",
        "- A pandas data frame with the response column only.\n",
        "- The parameter `test_size` which sets the portion of the dataset that will go to the validation set.\n",
        "\n",
        "## Create the predictor matrix\n",
        "\n",
        "We use the function `.drop()` from **pandas**. This function drops one or more columns from a data frame. Let's drop the response column `MEDV` and store the result in `X_full`.\n"
      ],
      "id": "c1933451"
    },
    {
      "cell_type": "code",
      "metadata": {},
      "source": [
        "#| echo: true\n",
        "#| output: true\n",
        "\n",
        "# Set full matrix of predictors.\n",
        "X_full = Boston_data.drop(columns = ['MEDV']) \n",
        "X_full.head(4)"
      ],
      "id": "0d82e246",
      "execution_count": null,
      "outputs": []
    },
    {
      "cell_type": "markdown",
      "metadata": {},
      "source": [
        "## Create the response column\n",
        "\n",
        "We use the function `.filter()` from **pandas** to extract the column `MEDV` from the data frame. We store the result in `Y_full`.\n"
      ],
      "id": "28478c07"
    },
    {
      "cell_type": "code",
      "metadata": {},
      "source": [
        "#| echo: true\n",
        "#| output: true\n",
        "\n",
        "# Set full matrix of responses.\n",
        "Y_full = Boston_data.filter(['MEDV'])\n",
        "Y_full.head(4)"
      ],
      "id": "ad937362",
      "execution_count": null,
      "outputs": []
    },
    {
      "cell_type": "markdown",
      "metadata": {},
      "source": [
        "## Let's partition the dataset\n",
        "\n",
        "</br>\n"
      ],
      "id": "e9695f66"
    },
    {
      "cell_type": "code",
      "metadata": {},
      "source": [
        "#| echo: true\n",
        "#| output: true\n",
        "\n",
        "# Split the dataset into training and validation.\n",
        "X_train, X_valid, Y_train, Y_valid = train_test_split(X_full, Y_full, \n",
        "                                                      test_size = 0.3)"
      ],
      "id": "84aefefd",
      "execution_count": null,
      "outputs": []
    },
    {
      "cell_type": "markdown",
      "metadata": {},
      "source": [
        "-   The function makes a clever partition of the data using the *empirical* distribution of the response.\n",
        "\n",
        "-   Technically, it splits the data so that the distribution of the response under the training and validation sets is similar.\n",
        "\n",
        "-   Usually, the proportion of the dataset that goes to the validation set is 20% or 30%.\n",
        "\n",
        "## \n",
        "\n",
        "The predictors and response in the training dataset are in the objects `X_train` and `Y_train`, respectively. We compile these objects into a single dataset using the function `.concat()` from **pandas**. The argument `axis = 1` tells `.concat()` to concatenate the datasets by their rows.\n"
      ],
      "id": "c693a3c1"
    },
    {
      "cell_type": "code",
      "metadata": {},
      "source": [
        "#| echo: true\n",
        "#| output: true\n",
        "\n",
        "training_dataset = pd.concat([X_train, Y_train], axis = 1)\n",
        "training_dataset.head(4)"
      ],
      "id": "277fe391",
      "execution_count": null,
      "outputs": []
    },
    {
      "cell_type": "markdown",
      "metadata": {},
      "source": [
        "## \n",
        "\n",
        "</br>\n",
        "\n",
        "Equivalently, the predictors and response in the validation dataset are in the objects `X_valid` and `Y_valid`, respectively.\n"
      ],
      "id": "c07cfd8a"
    },
    {
      "cell_type": "code",
      "metadata": {},
      "source": [
        "#| echo: true\n",
        "#| output: true\n",
        "\n",
        "validation_dataset = pd.concat([X_valid, Y_valid], axis = 1)\n",
        "validation_dataset.head(4)"
      ],
      "id": "5d7ab9b4",
      "execution_count": null,
      "outputs": []
    },
    {
      "cell_type": "markdown",
      "metadata": {},
      "source": [
        "## Work on your training dataset\n",
        "\n",
        "After we have partitioned the data, we **work on the** [**training data**]{style=\"color:blue;\"} to develop our predictive pipeline.\n",
        "\n",
        "The pipeline has two main steps:\n",
        "\n",
        "1.  Data preprocessing.\n",
        "2.  Model development.\n",
        "\n",
        "We will now discuss preprocessing techniques applied to the predictor columns in the training dataset. \n",
        "\n",
        "Note that all preprocessing techniques will also be applied to the [**validation dataset**]{style=\"color:orange;\"} and [**test dataset**]{style=\"color:green;\"} to prepare it for your model!\n",
        "\n",
        "# Dealing with missing values\n",
        "\n",
        "## Missing values\n",
        "\n",
        "In many cases, some predictors have no values for a given observation. It is important to understand why the values are missing.\n",
        "\n",
        "</br>\n",
        "\n",
        ". . .\n",
        "\n",
        "There four main types of missing data:\n",
        "\n",
        "::: incremental\n",
        "-   *Structurally missing* data is data that is missing for a logical reason or because it should not exist.\n",
        "\n",
        "-   *Missing completely at random* assumes that the fact that the data is missing is unrelated to the other information in the data.\n",
        ":::\n",
        "\n",
        "## \n",
        "\n",
        "</br></br>\n",
        "\n",
        "-   *Missing at random* assumes that we can predict the value that is missing based on the other available data.\n",
        "\n",
        "-   *Missing not at random* assumes that there is a mechanism that generates the missing values, which may include observed and unobserved predictors.\n",
        "\n",
        "## \n",
        "\n",
        "For large data sets, removal of observations based on missing values is not a problem, assuming that the type of missing data is completely at random.\n",
        "\n",
        "</br>\n",
        "\n",
        "In a smaller data sets, there is a high price in removing observations. To overcome this issue, we can use methods of imputation, which try to estimate the missing values of a predictor variable using the other predictors' values.\n",
        "\n",
        "</br>\n",
        "\n",
        "Here, we will introduce some simple methods for imputing missing values in categorical and numerical variables.\n",
        "\n",
        "## Example 2\n",
        "\n",
        "</br>\n",
        "\n",
        "Let's use the penguins dataset available in the file \"penguins.xlsx\".\n"
      ],
      "id": "ee9a6f79"
    },
    {
      "cell_type": "code",
      "metadata": {},
      "source": [
        "#| echo: true\n",
        "\n",
        "# Load the Excel file into a pandas DataFrame.\n",
        "penguins_data = pd.read_excel(\"penguins.xlsx\")\n",
        "\n",
        "# Set categorical variables.\n",
        "penguins_data['sex'] = pd.Categorical(penguins_data['sex'])\n",
        "penguins_data['species'] = pd.Categorical(penguins_data['species'])\n",
        "penguins_data['island'] = pd.Categorical(penguins_data['island'])"
      ],
      "id": "55f8766d",
      "execution_count": null,
      "outputs": []
    },
    {
      "cell_type": "markdown",
      "metadata": {},
      "source": [
        "## Training and validation datasets\n",
        "\n",
        "For illustrative purposes, we assume that we want to predict the species (in the column `species`) of a penguin using  the predictors `bill_length_mm`, `bill_depth_mm`, `flipper_length_mm`, `body_mass_g`, and `sex`.\n",
        "\n",
        "</br>\n",
        "\n",
        "We create the predictor matrix and response column.\n"
      ],
      "id": "a11ec45f"
    },
    {
      "cell_type": "code",
      "metadata": {},
      "source": [
        "#| echo: true\n",
        "\n",
        "# Set full matrix of predictors.\n",
        "X_full_p = (penguins_data\n",
        "           .filter(['bill_length_mm', 'bill_depth_mm', \n",
        "           'flipper_length_mm', 'body_mass_g', 'sex']))\n",
        "\n",
        "# Set full matrix of responses.\n",
        "Y_full_p = penguins_data.filter(['species'])"
      ],
      "id": "823d372b",
      "execution_count": null,
      "outputs": []
    },
    {
      "cell_type": "markdown",
      "metadata": {},
      "source": [
        "##\n",
        "\n",
        "</br>\n",
        "\n",
        "We will use a validation dataset with 20\\% of the observations in `penguins_data`. The other 80\\% will be in the training dataset.\n"
      ],
      "id": "0193af48"
    },
    {
      "cell_type": "code",
      "metadata": {},
      "source": [
        "#| echo: true\n",
        "\n",
        "# Split the dataset into training and validation.\n",
        "X_train_p, X_valid_p, Y_train_p, Y_valid_p = train_test_split(X_full_p, Y_full_p, \n",
        "                                                      test_size = 0.3,\n",
        "                                                      random_state = 59227)"
      ],
      "id": "cd47cc97",
      "execution_count": null,
      "outputs": []
    },
    {
      "cell_type": "markdown",
      "metadata": {},
      "source": [
        "In `train_test_split`, we use the input `random_state` to set a *random seed*. Essentially, this allows you to obtain the same training and validation datasets every time you run the code. *The advice is setting* `random_state` *to a big integer number generated at random.*\n",
        "\n",
        "##\n",
        "\n",
        "</br>\n",
        "\n",
        "Since preprocessing techniques are meant for the predictors, we will work on the `X_train_p` data frame.\n"
      ],
      "id": "e9125ff1"
    },
    {
      "cell_type": "code",
      "metadata": {},
      "source": [
        "#| echo: false\n",
        "\n",
        "X_train_p.head()"
      ],
      "id": "46680cd0",
      "execution_count": null,
      "outputs": []
    },
    {
      "cell_type": "markdown",
      "metadata": {},
      "source": [
        "##\n",
        "\n",
        "</br>\n",
        "\n",
        "Let's check if the dataset has have missing observations is using the function `.info()` from **pandas**.\n"
      ],
      "id": "1fcf764d"
    },
    {
      "cell_type": "code",
      "metadata": {},
      "source": [
        "#| echo: true\n",
        "\n",
        "X_train_p.info()"
      ],
      "id": "be92d8d0",
      "execution_count": null,
      "outputs": []
    },
    {
      "cell_type": "markdown",
      "metadata": {},
      "source": [
        "## \n",
        "\n",
        "In the output of the function, \"non-null\" refers to the number of entries in a column that have actual values. That is, the number of entries where there are not `NaN`.\n"
      ],
      "id": "36aefe61"
    },
    {
      "cell_type": "code",
      "metadata": {},
      "source": [
        "#| echo: false\n",
        "\n",
        "X_train_p.info()"
      ],
      "id": "e860bc14",
      "execution_count": null,
      "outputs": []
    },
    {
      "cell_type": "markdown",
      "metadata": {},
      "source": [
        "The value next to \"RangeIndex\" is the number of observations in the dataset.\n",
        "\n",
        "##\n",
        "\n",
        "The output below shows that there are 240 entries but `bill_length_mm` has 238 that are \"non-null\". Therefore, this column has **two** missing observations. \n"
      ],
      "id": "f449957f"
    },
    {
      "cell_type": "code",
      "metadata": {},
      "source": [
        "#| echo: false\n",
        "\n",
        "X_train_p.info()"
      ],
      "id": "afb2c75a",
      "execution_count": null,
      "outputs": []
    },
    {
      "cell_type": "markdown",
      "metadata": {},
      "source": [
        "The same is true for the other predictors.\n",
        "\n",
        "## \n",
        "\n",
        "\n",
        "Alternatively, we can use the function `.isnull()` together with `sum()` to determine the number of missing values for each column in the dataset.\n",
        "\n",
        "</br>\n"
      ],
      "id": "680e6468"
    },
    {
      "cell_type": "code",
      "metadata": {},
      "source": [
        "#| echo: true\n",
        "\n",
        "missing_values = X_train_p.isnull().sum()\n",
        "missing_values"
      ],
      "id": "c3745115",
      "execution_count": null,
      "outputs": []
    },
    {
      "cell_type": "markdown",
      "metadata": {},
      "source": [
        "</br>\n",
        "\n",
        "We see that each predictor column has two missing values.\n",
        "\n",
        "## Removing missing values\n",
        "\n",
        "If we want to remove all rows in the dataset that have at least one missing value, we use the function `.dropna()`.\n"
      ],
      "id": "695b3085"
    },
    {
      "cell_type": "code",
      "metadata": {},
      "source": [
        "#| echo: true\n",
        "#| output: true\n",
        "\n",
        "complete_predictors = X_train_p.dropna()\n",
        "complete_predictors.head()"
      ],
      "id": "85bcb41e",
      "execution_count": null,
      "outputs": []
    },
    {
      "cell_type": "markdown",
      "metadata": {},
      "source": [
        "##\n"
      ],
      "id": "69fc1af0"
    },
    {
      "cell_type": "code",
      "metadata": {},
      "source": [
        "#| echo: true\n",
        "#| output: true\n",
        "\n",
        "complete_predictors.info()"
      ],
      "id": "dce299bf",
      "execution_count": null,
      "outputs": []
    },
    {
      "cell_type": "markdown",
      "metadata": {},
      "source": [
        "The new data is complete because each column has 232 \"non-null\" values; the total number of observations in `complete_predictors`.\n",
        "\n",
        "However, note that we have lost eight of the original observations in `X_train_p`!\n",
        "\n",
        "\n",
        "## Imputation using the mean\n",
        "\n",
        "We can impute the missing values of a numeric variable using the **mean** or **median** of its available values. For example, consider the variable `bill_length_mm` that has two missing values.\n"
      ],
      "id": "b63e6323"
    },
    {
      "cell_type": "code",
      "metadata": {},
      "source": [
        "#| echo: true\n",
        "#| output: true\n",
        "\n",
        "X_train_p['bill_length_mm'].info()"
      ],
      "id": "875ef76a",
      "execution_count": null,
      "outputs": []
    },
    {
      "cell_type": "markdown",
      "metadata": {},
      "source": [
        "In **scikit-learn**, we use the function `SimpleImputer()` to define the method of imputation of missing values.\n",
        "\n",
        "## \n",
        "\n",
        "</br>\n",
        "\n",
        "Using `SimpleImputer()`, we set the method to imput missing values using the **mean**. We also use the function `fit_transform()` to apply the imputation method to the variable.\n"
      ],
      "id": "c1e8c05a"
    },
    {
      "cell_type": "code",
      "metadata": {},
      "source": [
        "#| echo: true\n",
        "#| output: true\n",
        "\n",
        "# Imputation for numerical variables (using the mean)\n",
        "num_imputer = SimpleImputer(strategy='mean')\n",
        "\n",
        "# Replace the original variable with new version.\n",
        "X_train_p['bill_length_mm'] = num_imputer.fit_transform(X_train_p[ ['bill_length_mm'] ] )"
      ],
      "id": "6ddcbfd6",
      "execution_count": null,
      "outputs": []
    },
    {
      "cell_type": "markdown",
      "metadata": {},
      "source": [
        "## \n",
        "\n",
        "After imputation, the information of the predictors in the dataset looks like this.\n"
      ],
      "id": "e79e1382"
    },
    {
      "cell_type": "code",
      "metadata": {},
      "source": [
        "#| echo: true\n",
        "#| output: true\n",
        "\n",
        "X_train_p.info()"
      ],
      "id": "d2e59f3e",
      "execution_count": null,
      "outputs": []
    },
    {
      "cell_type": "markdown",
      "metadata": {},
      "source": [
        "Now, `bill_length_mm` has 240 complete values.\n",
        "\n",
        "## \n",
        "\n",
        "To imput the missing values using the **median**, we simply set this method in `SimpleImputer()`. For example, let's imput the missing values of `bill_depth_mm`.\n"
      ],
      "id": "eca74666"
    },
    {
      "cell_type": "code",
      "metadata": {},
      "source": [
        "#| echo: true\n",
        "#| output: true\n",
        "\n",
        "# Imputation for numerical variables (using the mean)\n",
        "num_imputer = SimpleImputer(strategy = 'median')\n",
        "\n",
        "# Replace the original variable with new version.\n",
        "X_train_p['bill_depth_mm'] = num_imputer.fit_transform(X_train_p[ ['bill_depth_mm'] ] )\n",
        "\n",
        "# Show the information of the predictor.\n",
        "X_train_p['bill_depth_mm'].info()"
      ],
      "id": "252bfdb8",
      "execution_count": null,
      "outputs": []
    },
    {
      "cell_type": "markdown",
      "metadata": {},
      "source": [
        "## Using the mean or the median?\n",
        "\n",
        "</br></br>\n",
        "\n",
        "We use the **sample mean** when the data distribution is roughly symmetrical.\n",
        "\n",
        "-   Pros: Simple and easy to implement.\n",
        "\n",
        "-   Cons: Sensitive to outliers; may not be accurate for skewed distributions\n",
        "\n",
        "## \n",
        "\n",
        "</br></br>\n",
        "\n",
        "We use the **sample median** when the data is skewed (e.g., incomes, prices).\n",
        "\n",
        "-   Pros: Less sensitive to outliers; robust for skewed distributions.\n",
        "\n",
        "-   Cons: May reduce variability in the data.\n",
        "\n",
        "## Imputation method for a categorical variable\n",
        "\n",
        "If a categorical variable has missing values, we can use the **most frequent** of the available values to replace the missing values. To this end, we use similar commands as before.\n",
        "\n",
        "For example, let's impute the missing values of `sex` using this strategy.\n"
      ],
      "id": "b9f9ec2a"
    },
    {
      "cell_type": "code",
      "metadata": {},
      "source": [
        "#| echo: true\n",
        "#| output: true\n",
        "\n",
        "# Imputation for categorical variables (using the most frequent value)\n",
        "cat_imputer = SimpleImputer(strategy = 'most_frequent')\n",
        "\n",
        "# Apply imputation strategy for categorical variables.\n",
        "X_train_p['sex'] = cat_imputer.fit_transform(X_train_p[ ['sex'] ]).ravel()"
      ],
      "id": "e3e45652",
      "execution_count": null,
      "outputs": []
    },
    {
      "cell_type": "markdown",
      "metadata": {},
      "source": [
        "## \n",
        "\n",
        "Let's now have a look at the information of the dataset.\n"
      ],
      "id": "20d9bd7d"
    },
    {
      "cell_type": "code",
      "metadata": {},
      "source": [
        "#| echo: true\n",
        "#| output: true\n",
        "\n",
        "# Apply imputation strategy for categorical variables.\n",
        "X_train_p.info()"
      ],
      "id": "64a3ad27",
      "execution_count": null,
      "outputs": []
    },
    {
      "cell_type": "markdown",
      "metadata": {},
      "source": [
        "The columns `bill_length_mm`, `bill_depth_mm`, and `sex` have 240 complete values.\n",
        "\n",
        "## Multivariate imputation using K-nearest neighbours \n",
        "\n",
        "K-nearest neighbours (KNN) is a multiple imputation method to fill in the missing values of a predictor using the available values from this and the other predictors. \n",
        "\n",
        "</br>\n",
        "\n",
        "For each missing value in a predictor $X$:\n",
        "\n",
        "  1. Find the $K$ most similar rows based on the other predictors.\n",
        "  2. Impute the missing value of $X$ using the *average* of the available values of $X$ in the $K$ closest rows.\n",
        "\n",
        "## Notes on its implementation\n",
        "\n",
        "</br>\n",
        "\n",
        "- KNN captures *local patterns* better than individual predictor imputation using the mean or the median. \n",
        "\n",
        "- However, it only works for numeric predictors!\n",
        "\n",
        "- The distance between two rows is calculated using *Euclidean* distance.\n",
        "\n",
        "- KNN only considers rows without missing values in the predictor columns being used.\n",
        "\n",
        "## In Python\n",
        "\n",
        "You can use KNN using the function `KNNImputer()`. Its main input is the number of nearest neighbours to use. You set this value using the parameter `n_neighbors`.\n"
      ],
      "id": "3ea12d17"
    },
    {
      "cell_type": "code",
      "metadata": {},
      "source": [
        "#| echo: true\n",
        "#| output: true\n",
        "\n",
        "# Set the KNN imputer using two neighbours.\n",
        "KNN_imputer = KNNImputer(n_neighbors = 2)\n",
        "\n",
        "# Select numeric predictors.\n",
        "X_train_num_p = X_train_p.drop(columns = ['sex']) \n",
        "\n",
        "# Apply imputer and store the rulst in a pandas data frame.\n",
        "X_train_num_p = pd.DataFrame(KNN_imputer.fit_transform(X_train_num_p), \n",
        "                            columns = X_train_num_p.columns)"
      ],
      "id": "2c6eaeab",
      "execution_count": null,
      "outputs": []
    },
    {
      "cell_type": "markdown",
      "metadata": {},
      "source": [
        "## \n",
        "\n",
        "</br>\n",
        "\n",
        "Let's look at the new dataset.\n"
      ],
      "id": "b712dbbd"
    },
    {
      "cell_type": "code",
      "metadata": {},
      "source": [
        "#| echo: true\n",
        "#| output: true\n",
        "\n",
        "X_train_num_p.info()"
      ],
      "id": "09ca439b",
      "execution_count": null,
      "outputs": []
    },
    {
      "cell_type": "markdown",
      "metadata": {},
      "source": [
        "All predictors have 240 complete entries.\n",
        "\n",
        "\n",
        "# [Return to main page](https://alanrvazquez.github.io/TEC-IN1002B-Website/)"
      ],
      "id": "d27c5f41"
    }
  ],
  "metadata": {
    "kernelspec": {
      "display_name": "Python 3",
      "language": "python",
      "name": "python3"
    }
  },
  "nbformat": 4,
  "nbformat_minor": 5
}